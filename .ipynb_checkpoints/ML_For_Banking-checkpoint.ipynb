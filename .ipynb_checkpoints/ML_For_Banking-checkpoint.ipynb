{
 "cells": [
  {
   "cell_type": "code",
   "execution_count": 321,
   "metadata": {},
   "outputs": [],
   "source": [
    "import pandas as pd\n",
    "import numpy as np\n",
    "import matplotlib.pyplot as plt\n",
    "%matplotlib inline\n",
    "import seaborn as sns\n",
    "from matplotlib import style\n",
    "style.use('ggplot')\n",
    "pd.set_option('display.float_format', lambda x: '%.5f' % x)\n",
    "pd.options.display.max_columns = 100\n",
    "\n",
    "from sklearn.metrics import f1_score\n",
    "from sklearn.ensemble import RandomForestClassifier\n",
    "from sklearn.preprocessing import LabelEncoder,MinMaxScaler,StandardScaler\n",
    "from sklearn.model_selection import train_test_split,RandomizedSearchCV,KFold,StratifiedKFold\n",
    "import lightgbm as lgb\n",
    "import xgboost as xgb"
   ]
  },
  {
   "cell_type": "code",
   "execution_count": 322,
   "metadata": {},
   "outputs": [
    {
     "name": "stdout",
     "output_type": "stream",
     "text": [
      "(164309, 13) (109541, 12)\n"
     ]
    }
   ],
   "source": [
    "train = pd.read_csv(\"C:/Users/kulka/Desktop/AV_Hackathon_Codes/ML_For_Banking/Data/train_fNxu4vz.csv\")\n",
    "test  = pd.read_csv(\"C:/Users/kulka/Desktop/AV_Hackathon_Codes/ML_For_Banking/Data/test_fjtUOL8.csv\")\n",
    "Submission = test[['Loan_ID']]\n",
    "test.drop(\"Loan_ID\",axis=1,inplace=True)\n",
    "train.drop(\"Loan_ID\",axis=1,inplace=True)\n",
    "print (train.shape, test.shape)"
   ]
  },
  {
   "cell_type": "code",
   "execution_count": 323,
   "metadata": {},
   "outputs": [
    {
     "name": "stdout",
     "output_type": "stream",
     "text": [
      "<class 'pandas.core.frame.DataFrame'>\n",
      "RangeIndex: 164309 entries, 0 to 164308\n",
      "Data columns (total 13 columns):\n",
      " #   Column                   Non-Null Count   Dtype  \n",
      "---  ------                   --------------   -----  \n",
      " 0   Loan_Amount_Requested    164309 non-null  object \n",
      " 1   Length_Employed          156938 non-null  object \n",
      " 2   Home_Owner               138960 non-null  object \n",
      " 3   Annual_Income            139207 non-null  float64\n",
      " 4   Income_Verified          164309 non-null  object \n",
      " 5   Purpose_Of_Loan          164309 non-null  object \n",
      " 6   Debt_To_Income           164309 non-null  float64\n",
      " 7   Inquiries_Last_6Mo       164309 non-null  int64  \n",
      " 8   Months_Since_Deliquency  75930 non-null   float64\n",
      " 9   Number_Open_Accounts     164309 non-null  int64  \n",
      " 10  Total_Accounts           164309 non-null  int64  \n",
      " 11  Gender                   164309 non-null  object \n",
      " 12  Interest_Rate            164309 non-null  int64  \n",
      "dtypes: float64(3), int64(4), object(6)\n",
      "memory usage: 16.3+ MB\n"
     ]
    }
   ],
   "source": [
    "train.info()"
   ]
  },
  {
   "cell_type": "code",
   "execution_count": 324,
   "metadata": {},
   "outputs": [
    {
     "name": "stdout",
     "output_type": "stream",
     "text": [
      "<class 'pandas.core.frame.DataFrame'>\n",
      "RangeIndex: 109541 entries, 0 to 109540\n",
      "Data columns (total 12 columns):\n",
      " #   Column                   Non-Null Count   Dtype  \n",
      "---  ------                   --------------   -----  \n",
      " 0   Loan_Amount_Requested    109541 non-null  object \n",
      " 1   Length_Employed          104605 non-null  object \n",
      " 2   Home_Owner               92830 non-null   object \n",
      " 3   Annual_Income            92643 non-null   float64\n",
      " 4   Income_Verified          109541 non-null  object \n",
      " 5   Purpose_Of_Loan          109541 non-null  object \n",
      " 6   Debt_To_Income           109541 non-null  float64\n",
      " 7   Inquiries_Last_6Mo       109541 non-null  int64  \n",
      " 8   Months_Since_Deliquency  50682 non-null   float64\n",
      " 9   Number_Open_Accounts     109541 non-null  int64  \n",
      " 10  Total_Accounts           109541 non-null  int64  \n",
      " 11  Gender                   109541 non-null  object \n",
      "dtypes: float64(3), int64(3), object(6)\n",
      "memory usage: 10.0+ MB\n"
     ]
    }
   ],
   "source": [
    "test.info()"
   ]
  },
  {
   "cell_type": "markdown",
   "metadata": {},
   "source": [
    "1. There are missing values in Length_Employed, Home_Owner, Annual_Income, and Months_Since_Delinquency variables in both Train and Test datasets. \n",
    "2. The dataset has a mix of Object, Float and int variables.\n",
    "3. Dependent variable is categorical in nature with 3 levels. "
   ]
  },
  {
   "cell_type": "code",
   "execution_count": 325,
   "metadata": {},
   "outputs": [
    {
     "data": {
      "text/html": [
       "<div>\n",
       "<style scoped>\n",
       "    .dataframe tbody tr th:only-of-type {\n",
       "        vertical-align: middle;\n",
       "    }\n",
       "\n",
       "    .dataframe tbody tr th {\n",
       "        vertical-align: top;\n",
       "    }\n",
       "\n",
       "    .dataframe thead th {\n",
       "        text-align: right;\n",
       "    }\n",
       "</style>\n",
       "<table border=\"1\" class=\"dataframe\">\n",
       "  <thead>\n",
       "    <tr style=\"text-align: right;\">\n",
       "      <th></th>\n",
       "      <th>Loan_Amount_Requested</th>\n",
       "      <th>Length_Employed</th>\n",
       "      <th>Home_Owner</th>\n",
       "      <th>Annual_Income</th>\n",
       "      <th>Income_Verified</th>\n",
       "      <th>Purpose_Of_Loan</th>\n",
       "      <th>Debt_To_Income</th>\n",
       "      <th>Inquiries_Last_6Mo</th>\n",
       "      <th>Months_Since_Deliquency</th>\n",
       "      <th>Number_Open_Accounts</th>\n",
       "      <th>Total_Accounts</th>\n",
       "      <th>Gender</th>\n",
       "      <th>Interest_Rate</th>\n",
       "    </tr>\n",
       "  </thead>\n",
       "  <tbody>\n",
       "    <tr>\n",
       "      <th>0</th>\n",
       "      <td>7,000</td>\n",
       "      <td>&lt; 1 year</td>\n",
       "      <td>Rent</td>\n",
       "      <td>68000.00000</td>\n",
       "      <td>not verified</td>\n",
       "      <td>car</td>\n",
       "      <td>18.37000</td>\n",
       "      <td>0</td>\n",
       "      <td>nan</td>\n",
       "      <td>9</td>\n",
       "      <td>14</td>\n",
       "      <td>Female</td>\n",
       "      <td>1</td>\n",
       "    </tr>\n",
       "    <tr>\n",
       "      <th>1</th>\n",
       "      <td>30,000</td>\n",
       "      <td>4 years</td>\n",
       "      <td>Mortgage</td>\n",
       "      <td>nan</td>\n",
       "      <td>VERIFIED - income</td>\n",
       "      <td>debt_consolidation</td>\n",
       "      <td>14.93000</td>\n",
       "      <td>0</td>\n",
       "      <td>17.00000</td>\n",
       "      <td>12</td>\n",
       "      <td>24</td>\n",
       "      <td>Female</td>\n",
       "      <td>3</td>\n",
       "    </tr>\n",
       "    <tr>\n",
       "      <th>2</th>\n",
       "      <td>24,725</td>\n",
       "      <td>7 years</td>\n",
       "      <td>Mortgage</td>\n",
       "      <td>75566.40000</td>\n",
       "      <td>VERIFIED - income source</td>\n",
       "      <td>debt_consolidation</td>\n",
       "      <td>15.88000</td>\n",
       "      <td>0</td>\n",
       "      <td>nan</td>\n",
       "      <td>12</td>\n",
       "      <td>16</td>\n",
       "      <td>Male</td>\n",
       "      <td>3</td>\n",
       "    </tr>\n",
       "    <tr>\n",
       "      <th>3</th>\n",
       "      <td>16,000</td>\n",
       "      <td>&lt; 1 year</td>\n",
       "      <td>NaN</td>\n",
       "      <td>56160.00000</td>\n",
       "      <td>VERIFIED - income source</td>\n",
       "      <td>debt_consolidation</td>\n",
       "      <td>14.34000</td>\n",
       "      <td>3</td>\n",
       "      <td>nan</td>\n",
       "      <td>16</td>\n",
       "      <td>22</td>\n",
       "      <td>Male</td>\n",
       "      <td>3</td>\n",
       "    </tr>\n",
       "    <tr>\n",
       "      <th>4</th>\n",
       "      <td>17,000</td>\n",
       "      <td>8 years</td>\n",
       "      <td>Own</td>\n",
       "      <td>96000.00000</td>\n",
       "      <td>VERIFIED - income source</td>\n",
       "      <td>debt_consolidation</td>\n",
       "      <td>22.17000</td>\n",
       "      <td>1</td>\n",
       "      <td>nan</td>\n",
       "      <td>19</td>\n",
       "      <td>30</td>\n",
       "      <td>Female</td>\n",
       "      <td>1</td>\n",
       "    </tr>\n",
       "  </tbody>\n",
       "</table>\n",
       "</div>"
      ],
      "text/plain": [
       "  Loan_Amount_Requested Length_Employed Home_Owner  Annual_Income  \\\n",
       "0                 7,000        < 1 year       Rent    68000.00000   \n",
       "1                30,000         4 years   Mortgage            nan   \n",
       "2                24,725         7 years   Mortgage    75566.40000   \n",
       "3                16,000        < 1 year        NaN    56160.00000   \n",
       "4                17,000         8 years        Own    96000.00000   \n",
       "\n",
       "            Income_Verified     Purpose_Of_Loan  Debt_To_Income  \\\n",
       "0              not verified                 car        18.37000   \n",
       "1         VERIFIED - income  debt_consolidation        14.93000   \n",
       "2  VERIFIED - income source  debt_consolidation        15.88000   \n",
       "3  VERIFIED - income source  debt_consolidation        14.34000   \n",
       "4  VERIFIED - income source  debt_consolidation        22.17000   \n",
       "\n",
       "   Inquiries_Last_6Mo  Months_Since_Deliquency  Number_Open_Accounts  \\\n",
       "0                   0                      nan                     9   \n",
       "1                   0                 17.00000                    12   \n",
       "2                   0                      nan                    12   \n",
       "3                   3                      nan                    16   \n",
       "4                   1                      nan                    19   \n",
       "\n",
       "   Total_Accounts  Gender  Interest_Rate  \n",
       "0              14  Female              1  \n",
       "1              24  Female              3  \n",
       "2              16    Male              3  \n",
       "3              22    Male              3  \n",
       "4              30  Female              1  "
      ]
     },
     "execution_count": 325,
     "metadata": {},
     "output_type": "execute_result"
    }
   ],
   "source": [
    "train.head()"
   ]
  },
  {
   "cell_type": "code",
   "execution_count": 326,
   "metadata": {},
   "outputs": [
    {
     "data": {
      "text/html": [
       "<div>\n",
       "<style scoped>\n",
       "    .dataframe tbody tr th:only-of-type {\n",
       "        vertical-align: middle;\n",
       "    }\n",
       "\n",
       "    .dataframe tbody tr th {\n",
       "        vertical-align: top;\n",
       "    }\n",
       "\n",
       "    .dataframe thead th {\n",
       "        text-align: right;\n",
       "    }\n",
       "</style>\n",
       "<table border=\"1\" class=\"dataframe\">\n",
       "  <thead>\n",
       "    <tr style=\"text-align: right;\">\n",
       "      <th></th>\n",
       "      <th>Loan_Amount_Requested</th>\n",
       "      <th>Length_Employed</th>\n",
       "      <th>Home_Owner</th>\n",
       "      <th>Annual_Income</th>\n",
       "      <th>Income_Verified</th>\n",
       "      <th>Purpose_Of_Loan</th>\n",
       "      <th>Debt_To_Income</th>\n",
       "      <th>Inquiries_Last_6Mo</th>\n",
       "      <th>Months_Since_Deliquency</th>\n",
       "      <th>Number_Open_Accounts</th>\n",
       "      <th>Total_Accounts</th>\n",
       "      <th>Gender</th>\n",
       "    </tr>\n",
       "  </thead>\n",
       "  <tbody>\n",
       "    <tr>\n",
       "      <th>0</th>\n",
       "      <td>27,500</td>\n",
       "      <td>10+ years</td>\n",
       "      <td>Mortgage</td>\n",
       "      <td>129000.00000</td>\n",
       "      <td>VERIFIED - income</td>\n",
       "      <td>debt_consolidation</td>\n",
       "      <td>12.87000</td>\n",
       "      <td>0</td>\n",
       "      <td>68.00000</td>\n",
       "      <td>10</td>\n",
       "      <td>37</td>\n",
       "      <td>Male</td>\n",
       "    </tr>\n",
       "    <tr>\n",
       "      <th>1</th>\n",
       "      <td>26,000</td>\n",
       "      <td>10+ years</td>\n",
       "      <td>NaN</td>\n",
       "      <td>110000.00000</td>\n",
       "      <td>not verified</td>\n",
       "      <td>credit_card</td>\n",
       "      <td>11.37000</td>\n",
       "      <td>0</td>\n",
       "      <td>nan</td>\n",
       "      <td>6</td>\n",
       "      <td>23</td>\n",
       "      <td>Male</td>\n",
       "    </tr>\n",
       "    <tr>\n",
       "      <th>2</th>\n",
       "      <td>6,075</td>\n",
       "      <td>&lt; 1 year</td>\n",
       "      <td>Rent</td>\n",
       "      <td>75000.00000</td>\n",
       "      <td>VERIFIED - income</td>\n",
       "      <td>debt_consolidation</td>\n",
       "      <td>6.83000</td>\n",
       "      <td>2</td>\n",
       "      <td>nan</td>\n",
       "      <td>5</td>\n",
       "      <td>20</td>\n",
       "      <td>Male</td>\n",
       "    </tr>\n",
       "    <tr>\n",
       "      <th>3</th>\n",
       "      <td>12,000</td>\n",
       "      <td>10+ years</td>\n",
       "      <td>Mortgage</td>\n",
       "      <td>73000.00000</td>\n",
       "      <td>VERIFIED - income source</td>\n",
       "      <td>debt_consolidation</td>\n",
       "      <td>7.76000</td>\n",
       "      <td>0</td>\n",
       "      <td>nan</td>\n",
       "      <td>6</td>\n",
       "      <td>8</td>\n",
       "      <td>Male</td>\n",
       "    </tr>\n",
       "    <tr>\n",
       "      <th>4</th>\n",
       "      <td>35,000</td>\n",
       "      <td>&lt; 1 year</td>\n",
       "      <td>Mortgage</td>\n",
       "      <td>156000.00000</td>\n",
       "      <td>not verified</td>\n",
       "      <td>debt_consolidation</td>\n",
       "      <td>9.62000</td>\n",
       "      <td>0</td>\n",
       "      <td>26.00000</td>\n",
       "      <td>9</td>\n",
       "      <td>21</td>\n",
       "      <td>Male</td>\n",
       "    </tr>\n",
       "  </tbody>\n",
       "</table>\n",
       "</div>"
      ],
      "text/plain": [
       "  Loan_Amount_Requested Length_Employed Home_Owner  Annual_Income  \\\n",
       "0                27,500       10+ years   Mortgage   129000.00000   \n",
       "1                26,000       10+ years        NaN   110000.00000   \n",
       "2                 6,075        < 1 year       Rent    75000.00000   \n",
       "3                12,000       10+ years   Mortgage    73000.00000   \n",
       "4                35,000        < 1 year   Mortgage   156000.00000   \n",
       "\n",
       "            Income_Verified     Purpose_Of_Loan  Debt_To_Income  \\\n",
       "0         VERIFIED - income  debt_consolidation        12.87000   \n",
       "1              not verified         credit_card        11.37000   \n",
       "2         VERIFIED - income  debt_consolidation         6.83000   \n",
       "3  VERIFIED - income source  debt_consolidation         7.76000   \n",
       "4              not verified  debt_consolidation         9.62000   \n",
       "\n",
       "   Inquiries_Last_6Mo  Months_Since_Deliquency  Number_Open_Accounts  \\\n",
       "0                   0                 68.00000                    10   \n",
       "1                   0                      nan                     6   \n",
       "2                   2                      nan                     5   \n",
       "3                   0                      nan                     6   \n",
       "4                   0                 26.00000                     9   \n",
       "\n",
       "   Total_Accounts Gender  \n",
       "0              37   Male  \n",
       "1              23   Male  \n",
       "2              20   Male  \n",
       "3               8   Male  \n",
       "4              21   Male  "
      ]
     },
     "execution_count": 326,
     "metadata": {},
     "output_type": "execute_result"
    }
   ],
   "source": [
    "test.head()"
   ]
  },
  {
   "cell_type": "markdown",
   "metadata": {},
   "source": [
    "### EDA"
   ]
  },
  {
   "cell_type": "code",
   "execution_count": 327,
   "metadata": {},
   "outputs": [],
   "source": [
    "train['Loan_Amount_Requested'] = train['Loan_Amount_Requested'].apply(lambda x: x.replace(\",\",\"\")).astype(float)\n",
    "test['Loan_Amount_Requested'] = test['Loan_Amount_Requested'].apply(lambda x: x.replace(\",\",\"\")).astype(float)"
   ]
  },
  {
   "cell_type": "code",
   "execution_count": 328,
   "metadata": {},
   "outputs": [
    {
     "data": {
      "text/plain": [
       "count   164309.00000\n",
       "mean     14349.33692\n",
       "std       8281.86870\n",
       "min        500.00000\n",
       "25%       8000.00000\n",
       "50%      12075.00000\n",
       "75%      20000.00000\n",
       "max      35000.00000\n",
       "Name: Loan_Amount_Requested, dtype: float64"
      ]
     },
     "execution_count": 328,
     "metadata": {},
     "output_type": "execute_result"
    }
   ],
   "source": [
    "train['Loan_Amount_Requested'].describe()"
   ]
  },
  {
   "cell_type": "code",
   "execution_count": 329,
   "metadata": {},
   "outputs": [
    {
     "name": "stdout",
     "output_type": "stream",
     "text": [
      "Values Below -10000.0 and Values above 38000.0 are considered as outliers in Loan_Amount_Requested Variable\n"
     ]
    }
   ],
   "source": [
    "Q1 = train['Loan_Amount_Requested'].quantile(0.25)\n",
    "Q3 = train['Loan_Amount_Requested'].quantile(0.75)\n",
    "IQR = Q3-Q1\n",
    "Lower_Range = Q1-1.5*IQR\n",
    "Upper_Range = Q3+1.5*IQR\n",
    "print (\"Values Below {} and Values above {} are considered as outliers in Loan_Amount_Requested Variable\".format(Lower_Range,Upper_Range))"
   ]
  },
  {
   "cell_type": "code",
   "execution_count": 330,
   "metadata": {},
   "outputs": [
    {
     "data": {
      "text/plain": [
       "<matplotlib.axes._subplots.AxesSubplot at 0x18f82785e48>"
      ]
     },
     "execution_count": 330,
     "metadata": {},
     "output_type": "execute_result"
    },
    {
     "data": {
      "image/png": "[encoded data removed]",
      "text/plain": [
       "<Figure size 432x288 with 1 Axes>"
      ]
     },
     "metadata": {},
     "output_type": "display_data"
    }
   ],
   "source": [
    "sns.distplot(train['Loan_Amount_Requested'])"
   ]
  },
  {
   "cell_type": "markdown",
   "metadata": {},
   "source": [
    "1. We cannot make out anything from the distribution above, although it might be considered tending towards Positively skewed distribution. \n",
    "2. The minimum value is 500 and Maximum is 35000, so the range is 34500.\n",
    "3. The median is 12075 with a standard deviation of 8281. "
   ]
  },
  {
   "cell_type": "code",
   "execution_count": 331,
   "metadata": {},
   "outputs": [
    {
     "data": {
      "text/plain": [
       "11"
      ]
     },
     "execution_count": 331,
     "metadata": {},
     "output_type": "execute_result"
    }
   ],
   "source": [
    "train['Length_Employed'].nunique()"
   ]
  },
  {
   "cell_type": "code",
   "execution_count": 332,
   "metadata": {},
   "outputs": [
    {
     "data": {
      "text/plain": [
       "<matplotlib.axes._subplots.AxesSubplot at 0x18f827e8b08>"
      ]
     },
     "execution_count": 332,
     "metadata": {},
     "output_type": "execute_result"
    },
    {
     "data": {
      "image/png": "[encoded data removed]",
      "text/plain": [
       "<Figure size 432x288 with 1 Axes>"
      ]
     },
     "metadata": {},
     "output_type": "display_data"
    }
   ],
   "source": [
    "train['Length_Employed'].value_counts(dropna=False).plot(kind='bar')\n",
    "# There are lot of missing values\n",
    "# Most of them have been employed for more than 10 years. "
   ]
  },
  {
   "cell_type": "code",
   "execution_count": 333,
   "metadata": {},
   "outputs": [
    {
     "data": {
      "text/plain": [
       "array(['Rent', 'Mortgage', nan, 'Own', 'Other', 'None'], dtype=object)"
      ]
     },
     "execution_count": 333,
     "metadata": {},
     "output_type": "execute_result"
    }
   ],
   "source": [
    "train['Home_Owner'].unique()"
   ]
  },
  {
   "cell_type": "code",
   "execution_count": 334,
   "metadata": {},
   "outputs": [
    {
     "data": {
      "text/plain": [
       "Mortgage    70345\n",
       "Rent        56031\n",
       "NaN         25349\n",
       "Own         12525\n",
       "Other          49\n",
       "None           10\n",
       "Name: Home_Owner, dtype: int64"
      ]
     },
     "execution_count": 334,
     "metadata": {},
     "output_type": "execute_result"
    }
   ],
   "source": [
    "train['Home_Owner'].value_counts(dropna=False)"
   ]
  },
  {
   "cell_type": "code",
   "execution_count": 335,
   "metadata": {},
   "outputs": [
    {
     "data": {
      "text/plain": [
       "<matplotlib.axes._subplots.AxesSubplot at 0x18f828704c8>"
      ]
     },
     "execution_count": 335,
     "metadata": {},
     "output_type": "execute_result"
    },
    {
     "data": {
      "image/png": "[encoded data removed]",
      "text/plain": [
       "<Figure size 432x288 with 1 Axes>"
      ]
     },
     "metadata": {},
     "output_type": "display_data"
    }
   ],
   "source": [
    "train['Home_Owner'].value_counts(dropna=False).plot(kind='bar')\n",
    "# There are lot of missing values\n",
    "# Most of them have been employed for more than 10 years. "
   ]
  },
  {
   "cell_type": "code",
   "execution_count": 336,
   "metadata": {},
   "outputs": [],
   "source": [
    "# Since the value count of Other and None are negligible as compared to the size of the dataset, they can be combined with any\n",
    "# other value."
   ]
  },
  {
   "cell_type": "code",
   "execution_count": 337,
   "metadata": {},
   "outputs": [
    {
     "data": {
      "text/plain": [
       "count    139207.00000\n",
       "mean      73331.15943\n",
       "std       60377.49829\n",
       "min        4000.00000\n",
       "25%       45000.00000\n",
       "50%       63000.00000\n",
       "75%       88697.50000\n",
       "max     7500000.00000\n",
       "Name: Annual_Income, dtype: float64"
      ]
     },
     "execution_count": 337,
     "metadata": {},
     "output_type": "execute_result"
    }
   ],
   "source": [
    "train['Annual_Income'].describe()"
   ]
  },
  {
   "cell_type": "code",
   "execution_count": 338,
   "metadata": {},
   "outputs": [
    {
     "data": {
      "text/plain": [
       "<matplotlib.axes._subplots.AxesSubplot at 0x18f83669108>"
      ]
     },
     "execution_count": 338,
     "metadata": {},
     "output_type": "execute_result"
    },
    {
     "data": {
      "image/png": "[encoded data removed]",
      "text/plain": [
       "<Figure size 432x288 with 1 Axes>"
      ]
     },
     "metadata": {},
     "output_type": "display_data"
    }
   ],
   "source": [
    "sns.distplot(train['Annual_Income'].dropna(),kde=False)"
   ]
  },
  {
   "cell_type": "markdown",
   "metadata": {},
   "source": [
    "1. As we can see in the above plot, a lot of income variables are between 4000 and 100000.\n",
    "2. There seem to be some outliers that need to be explored.\n",
    "3. Outliers are the reason for high mean.\n",
    "4. There are a few people whose incomes are more than a million."
   ]
  },
  {
   "cell_type": "code",
   "execution_count": 339,
   "metadata": {},
   "outputs": [
    {
     "data": {
      "text/html": [
       "<div>\n",
       "<style scoped>\n",
       "    .dataframe tbody tr th:only-of-type {\n",
       "        vertical-align: middle;\n",
       "    }\n",
       "\n",
       "    .dataframe tbody tr th {\n",
       "        vertical-align: top;\n",
       "    }\n",
       "\n",
       "    .dataframe thead th {\n",
       "        text-align: right;\n",
       "    }\n",
       "</style>\n",
       "<table border=\"1\" class=\"dataframe\">\n",
       "  <thead>\n",
       "    <tr style=\"text-align: right;\">\n",
       "      <th></th>\n",
       "      <th>Loan_Amount_Requested</th>\n",
       "      <th>Length_Employed</th>\n",
       "      <th>Home_Owner</th>\n",
       "      <th>Annual_Income</th>\n",
       "      <th>Income_Verified</th>\n",
       "      <th>Purpose_Of_Loan</th>\n",
       "      <th>Debt_To_Income</th>\n",
       "      <th>Inquiries_Last_6Mo</th>\n",
       "      <th>Months_Since_Deliquency</th>\n",
       "      <th>Number_Open_Accounts</th>\n",
       "      <th>Total_Accounts</th>\n",
       "      <th>Gender</th>\n",
       "      <th>Interest_Rate</th>\n",
       "    </tr>\n",
       "  </thead>\n",
       "  <tbody>\n",
       "    <tr>\n",
       "      <th>7</th>\n",
       "      <td>15000.00000</td>\n",
       "      <td>&lt; 1 year</td>\n",
       "      <td>Rent</td>\n",
       "      <td>115000.00000</td>\n",
       "      <td>VERIFIED - income</td>\n",
       "      <td>debt_consolidation</td>\n",
       "      <td>7.97000</td>\n",
       "      <td>1</td>\n",
       "      <td>16.00000</td>\n",
       "      <td>25</td>\n",
       "      <td>31</td>\n",
       "      <td>Female</td>\n",
       "      <td>2</td>\n",
       "    </tr>\n",
       "    <tr>\n",
       "      <th>9</th>\n",
       "      <td>30000.00000</td>\n",
       "      <td>10+ years</td>\n",
       "      <td>Own</td>\n",
       "      <td>163000.00000</td>\n",
       "      <td>VERIFIED - income</td>\n",
       "      <td>debt_consolidation</td>\n",
       "      <td>11.13000</td>\n",
       "      <td>0</td>\n",
       "      <td>nan</td>\n",
       "      <td>24</td>\n",
       "      <td>43</td>\n",
       "      <td>Male</td>\n",
       "      <td>1</td>\n",
       "    </tr>\n",
       "    <tr>\n",
       "      <th>15</th>\n",
       "      <td>35000.00000</td>\n",
       "      <td>4 years</td>\n",
       "      <td>Rent</td>\n",
       "      <td>101000.00000</td>\n",
       "      <td>VERIFIED - income</td>\n",
       "      <td>credit_card</td>\n",
       "      <td>15.24000</td>\n",
       "      <td>0</td>\n",
       "      <td>nan</td>\n",
       "      <td>10</td>\n",
       "      <td>17</td>\n",
       "      <td>Female</td>\n",
       "      <td>3</td>\n",
       "    </tr>\n",
       "    <tr>\n",
       "      <th>26</th>\n",
       "      <td>20000.00000</td>\n",
       "      <td>10+ years</td>\n",
       "      <td>Mortgage</td>\n",
       "      <td>125000.00000</td>\n",
       "      <td>VERIFIED - income source</td>\n",
       "      <td>debt_consolidation</td>\n",
       "      <td>9.09000</td>\n",
       "      <td>4</td>\n",
       "      <td>13.00000</td>\n",
       "      <td>10</td>\n",
       "      <td>21</td>\n",
       "      <td>Male</td>\n",
       "      <td>3</td>\n",
       "    </tr>\n",
       "    <tr>\n",
       "      <th>31</th>\n",
       "      <td>28625.00000</td>\n",
       "      <td>3 years</td>\n",
       "      <td>Mortgage</td>\n",
       "      <td>104600.00000</td>\n",
       "      <td>VERIFIED - income</td>\n",
       "      <td>debt_consolidation</td>\n",
       "      <td>21.59000</td>\n",
       "      <td>1</td>\n",
       "      <td>28.00000</td>\n",
       "      <td>29</td>\n",
       "      <td>44</td>\n",
       "      <td>Male</td>\n",
       "      <td>3</td>\n",
       "    </tr>\n",
       "    <tr>\n",
       "      <th>...</th>\n",
       "      <td>...</td>\n",
       "      <td>...</td>\n",
       "      <td>...</td>\n",
       "      <td>...</td>\n",
       "      <td>...</td>\n",
       "      <td>...</td>\n",
       "      <td>...</td>\n",
       "      <td>...</td>\n",
       "      <td>...</td>\n",
       "      <td>...</td>\n",
       "      <td>...</td>\n",
       "      <td>...</td>\n",
       "      <td>...</td>\n",
       "    </tr>\n",
       "    <tr>\n",
       "      <th>164284</th>\n",
       "      <td>35000.00000</td>\n",
       "      <td>10+ years</td>\n",
       "      <td>Rent</td>\n",
       "      <td>100904.00000</td>\n",
       "      <td>VERIFIED - income source</td>\n",
       "      <td>debt_consolidation</td>\n",
       "      <td>22.84000</td>\n",
       "      <td>2</td>\n",
       "      <td>nan</td>\n",
       "      <td>14</td>\n",
       "      <td>35</td>\n",
       "      <td>Male</td>\n",
       "      <td>3</td>\n",
       "    </tr>\n",
       "    <tr>\n",
       "      <th>164286</th>\n",
       "      <td>22000.00000</td>\n",
       "      <td>10+ years</td>\n",
       "      <td>NaN</td>\n",
       "      <td>170000.00000</td>\n",
       "      <td>VERIFIED - income source</td>\n",
       "      <td>debt_consolidation</td>\n",
       "      <td>5.82000</td>\n",
       "      <td>1</td>\n",
       "      <td>48.00000</td>\n",
       "      <td>9</td>\n",
       "      <td>17</td>\n",
       "      <td>Female</td>\n",
       "      <td>2</td>\n",
       "    </tr>\n",
       "    <tr>\n",
       "      <th>164300</th>\n",
       "      <td>24000.00000</td>\n",
       "      <td>1 year</td>\n",
       "      <td>Rent</td>\n",
       "      <td>108000.00000</td>\n",
       "      <td>VERIFIED - income source</td>\n",
       "      <td>other</td>\n",
       "      <td>14.30000</td>\n",
       "      <td>0</td>\n",
       "      <td>22.00000</td>\n",
       "      <td>12</td>\n",
       "      <td>36</td>\n",
       "      <td>Female</td>\n",
       "      <td>3</td>\n",
       "    </tr>\n",
       "    <tr>\n",
       "      <th>164302</th>\n",
       "      <td>24000.00000</td>\n",
       "      <td>2 years</td>\n",
       "      <td>NaN</td>\n",
       "      <td>110000.00000</td>\n",
       "      <td>VERIFIED - income</td>\n",
       "      <td>debt_consolidation</td>\n",
       "      <td>15.87000</td>\n",
       "      <td>1</td>\n",
       "      <td>6.00000</td>\n",
       "      <td>22</td>\n",
       "      <td>38</td>\n",
       "      <td>Male</td>\n",
       "      <td>2</td>\n",
       "    </tr>\n",
       "    <tr>\n",
       "      <th>164303</th>\n",
       "      <td>35000.00000</td>\n",
       "      <td>10+ years</td>\n",
       "      <td>Rent</td>\n",
       "      <td>115000.00000</td>\n",
       "      <td>VERIFIED - income</td>\n",
       "      <td>debt_consolidation</td>\n",
       "      <td>24.06000</td>\n",
       "      <td>0</td>\n",
       "      <td>37.00000</td>\n",
       "      <td>10</td>\n",
       "      <td>39</td>\n",
       "      <td>Male</td>\n",
       "      <td>3</td>\n",
       "    </tr>\n",
       "  </tbody>\n",
       "</table>\n",
       "<p>25830 rows × 13 columns</p>\n",
       "</div>"
      ],
      "text/plain": [
       "        Loan_Amount_Requested Length_Employed Home_Owner  Annual_Income  \\\n",
       "7                 15000.00000        < 1 year       Rent   115000.00000   \n",
       "9                 30000.00000       10+ years        Own   163000.00000   \n",
       "15                35000.00000         4 years       Rent   101000.00000   \n",
       "26                20000.00000       10+ years   Mortgage   125000.00000   \n",
       "31                28625.00000         3 years   Mortgage   104600.00000   \n",
       "...                       ...             ...        ...            ...   \n",
       "164284            35000.00000       10+ years       Rent   100904.00000   \n",
       "164286            22000.00000       10+ years        NaN   170000.00000   \n",
       "164300            24000.00000          1 year       Rent   108000.00000   \n",
       "164302            24000.00000         2 years        NaN   110000.00000   \n",
       "164303            35000.00000       10+ years       Rent   115000.00000   \n",
       "\n",
       "                 Income_Verified     Purpose_Of_Loan  Debt_To_Income  \\\n",
       "7              VERIFIED - income  debt_consolidation         7.97000   \n",
       "9              VERIFIED - income  debt_consolidation        11.13000   \n",
       "15             VERIFIED - income         credit_card        15.24000   \n",
       "26      VERIFIED - income source  debt_consolidation         9.09000   \n",
       "31             VERIFIED - income  debt_consolidation        21.59000   \n",
       "...                          ...                 ...             ...   \n",
       "164284  VERIFIED - income source  debt_consolidation        22.84000   \n",
       "164286  VERIFIED - income source  debt_consolidation         5.82000   \n",
       "164300  VERIFIED - income source               other        14.30000   \n",
       "164302         VERIFIED - income  debt_consolidation        15.87000   \n",
       "164303         VERIFIED - income  debt_consolidation        24.06000   \n",
       "\n",
       "        Inquiries_Last_6Mo  Months_Since_Deliquency  Number_Open_Accounts  \\\n",
       "7                        1                 16.00000                    25   \n",
       "9                        0                      nan                    24   \n",
       "15                       0                      nan                    10   \n",
       "26                       4                 13.00000                    10   \n",
       "31                       1                 28.00000                    29   \n",
       "...                    ...                      ...                   ...   \n",
       "164284                   2                      nan                    14   \n",
       "164286                   1                 48.00000                     9   \n",
       "164300                   0                 22.00000                    12   \n",
       "164302                   1                  6.00000                    22   \n",
       "164303                   0                 37.00000                    10   \n",
       "\n",
       "        Total_Accounts  Gender  Interest_Rate  \n",
       "7                   31  Female              2  \n",
       "9                   43    Male              1  \n",
       "15                  17  Female              3  \n",
       "26                  21    Male              3  \n",
       "31                  44    Male              3  \n",
       "...                ...     ...            ...  \n",
       "164284              35    Male              3  \n",
       "164286              17  Female              2  \n",
       "164300              36  Female              3  \n",
       "164302              38    Male              2  \n",
       "164303              39    Male              3  \n",
       "\n",
       "[25830 rows x 13 columns]"
      ]
     },
     "execution_count": 339,
     "metadata": {},
     "output_type": "execute_result"
    }
   ],
   "source": [
    "train[train['Annual_Income'] >= 100000]"
   ]
  },
  {
   "cell_type": "code",
   "execution_count": 340,
   "metadata": {},
   "outputs": [
    {
     "name": "stdout",
     "output_type": "stream",
     "text": [
      "Values Below -20546.25 and Values above 154243.75 are considered as outliers in Annual_Income Variable\n"
     ]
    }
   ],
   "source": [
    "Q1 = train['Annual_Income'].quantile(0.25)\n",
    "Q3 = train['Annual_Income'].quantile(0.75)\n",
    "IQR = Q3-Q1\n",
    "Lower_Range = Q1-1.5*IQR\n",
    "Upper_Range = Q3+1.5*IQR\n",
    "print (\"Values Below {} and Values above {} are considered as outliers in Annual_Income Variable\".format(Lower_Range,Upper_Range))"
   ]
  },
  {
   "cell_type": "code",
   "execution_count": 341,
   "metadata": {},
   "outputs": [
    {
     "data": {
      "text/plain": [
       "array(['not verified', 'VERIFIED - income', 'VERIFIED - income source'],\n",
       "      dtype=object)"
      ]
     },
     "execution_count": 341,
     "metadata": {},
     "output_type": "execute_result"
    }
   ],
   "source": [
    "train['Income_Verified'].unique()"
   ]
  },
  {
   "cell_type": "code",
   "execution_count": 342,
   "metadata": {},
   "outputs": [
    {
     "data": {
      "text/plain": [
       "<matplotlib.axes._subplots.AxesSubplot at 0x18f83cc7148>"
      ]
     },
     "execution_count": 342,
     "metadata": {},
     "output_type": "execute_result"
    },
    {
     "data": {
      "image/png": "[encoded data removed]",
      "text/plain": [
       "<Figure size 432x288 with 1 Axes>"
      ]
     },
     "metadata": {},
     "output_type": "display_data"
    }
   ],
   "source": [
    "train['Income_Verified'].value_counts(dropna=False).plot(kind='bar')\n",
    "# There are no missing values here, but a large portion of incomes are not verified. \n",
    "# There are also significant observations where the income source is verified but not the income."
   ]
  },
  {
   "cell_type": "code",
   "execution_count": 343,
   "metadata": {},
   "outputs": [
    {
     "data": {
      "text/plain": [
       "array(['car', 'debt_consolidation', 'credit_card', 'home_improvement',\n",
       "       'major_purchase', 'other', 'medical', 'small_business', 'moving',\n",
       "       'wedding', 'vacation', 'house', 'educational', 'renewable_energy'],\n",
       "      dtype=object)"
      ]
     },
     "execution_count": 343,
     "metadata": {},
     "output_type": "execute_result"
    }
   ],
   "source": [
    "train['Purpose_Of_Loan'].unique()"
   ]
  },
  {
   "cell_type": "code",
   "execution_count": 344,
   "metadata": {},
   "outputs": [
    {
     "data": {
      "text/plain": [
       "debt_consolidation    97101\n",
       "credit_card           36684\n",
       "home_improvement       9269\n",
       "other                  8346\n",
       "major_purchase         3435\n",
       "small_business         2392\n",
       "car                    1885\n",
       "medical                1541\n",
       "moving                  974\n",
       "vacation                837\n",
       "wedding                 828\n",
       "house                   773\n",
       "renewable_energy        123\n",
       "educational             121\n",
       "Name: Purpose_Of_Loan, dtype: int64"
      ]
     },
     "execution_count": 344,
     "metadata": {},
     "output_type": "execute_result"
    }
   ],
   "source": [
    "train['Purpose_Of_Loan'].value_counts(dropna=False)"
   ]
  },
  {
   "cell_type": "code",
   "execution_count": 345,
   "metadata": {},
   "outputs": [
    {
     "data": {
      "text/plain": [
       "<matplotlib.axes._subplots.AxesSubplot at 0x18f8411ea88>"
      ]
     },
     "execution_count": 345,
     "metadata": {},
     "output_type": "execute_result"
    },
    {
     "data": {
      "image/png": "[encoded data removed]",
      "text/plain": [
       "<Figure size 432x288 with 1 Axes>"
      ]
     },
     "metadata": {},
     "output_type": "display_data"
    }
   ],
   "source": [
    "train['Purpose_Of_Loan'].value_counts(dropna=False).plot(kind='bar')"
   ]
  },
  {
   "cell_type": "markdown",
   "metadata": {},
   "source": [
    "1. Debt_Consolidation and Credit_Card seem to be the common reasons for loan application."
   ]
  },
  {
   "cell_type": "code",
   "execution_count": 346,
   "metadata": {},
   "outputs": [
    {
     "data": {
      "text/plain": [
       "count   164309.00000\n",
       "mean        17.20719\n",
       "std          7.84508\n",
       "min          0.00000\n",
       "25%         11.37000\n",
       "50%         16.84000\n",
       "75%         22.78000\n",
       "max         39.99000\n",
       "Name: Debt_To_Income, dtype: float64"
      ]
     },
     "execution_count": 346,
     "metadata": {},
     "output_type": "execute_result"
    }
   ],
   "source": [
    "train['Debt_To_Income'].describe()"
   ]
  },
  {
   "cell_type": "code",
   "execution_count": 347,
   "metadata": {},
   "outputs": [
    {
     "data": {
      "text/plain": [
       "<matplotlib.axes._subplots.AxesSubplot at 0x18f841a5448>"
      ]
     },
     "execution_count": 347,
     "metadata": {},
     "output_type": "execute_result"
    },
    {
     "data": {
      "image/png": "[encoded data removed]",
      "text/plain": [
       "<Figure size 432x288 with 1 Axes>"
      ]
     },
     "metadata": {},
     "output_type": "display_data"
    }
   ],
   "source": [
    "sns.distplot(train['Debt_To_Income'])\n",
    "# Seems to be normally distributed. "
   ]
  },
  {
   "cell_type": "markdown",
   "metadata": {},
   "source": [
    "1. As per the description of the variable, it is 'A ratio calculated using the borrower’s total monthly debt payments on the total debt obligations, excluding mortgage and the requested loan, divided by the borrower’s self-reported monthly income.'\n",
    "2. A value of 0 in Debt_to_Income ratio seems strange. "
   ]
  },
  {
   "cell_type": "code",
   "execution_count": 348,
   "metadata": {},
   "outputs": [
    {
     "data": {
      "text/plain": [
       "array([0, 3, 1, 2, 4, 5, 6, 7, 8], dtype=int64)"
      ]
     },
     "execution_count": 348,
     "metadata": {},
     "output_type": "execute_result"
    }
   ],
   "source": [
    "train['Inquiries_Last_6Mo'].unique()"
   ]
  },
  {
   "cell_type": "code",
   "execution_count": 349,
   "metadata": {},
   "outputs": [
    {
     "data": {
      "text/plain": [
       "0    85665\n",
       "1    46071\n",
       "2    20297\n",
       "3     8863\n",
       "4     2278\n",
       "5      772\n",
       "6      335\n",
       "7       20\n",
       "8        8\n",
       "Name: Inquiries_Last_6Mo, dtype: int64"
      ]
     },
     "execution_count": 349,
     "metadata": {},
     "output_type": "execute_result"
    }
   ],
   "source": [
    "train['Inquiries_Last_6Mo'].value_counts(dropna=False)"
   ]
  },
  {
   "cell_type": "code",
   "execution_count": 350,
   "metadata": {},
   "outputs": [
    {
     "data": {
      "text/plain": [
       "<matplotlib.axes._subplots.AxesSubplot at 0x18f85fd4448>"
      ]
     },
     "execution_count": 350,
     "metadata": {},
     "output_type": "execute_result"
    },
    {
     "data": {
      "image/png": "[encoded data removed]",
      "text/plain": [
       "<Figure size 432x288 with 1 Axes>"
      ]
     },
     "metadata": {},
     "output_type": "display_data"
    }
   ],
   "source": [
    "train['Inquiries_Last_6Mo'].value_counts(dropna=False).plot(kind='bar')\n",
    "# Most of the borrowers have not made any inquiries in the last 6 months. There are a few who have made 8 inquiries as well.\n",
    "# No missing values in this variable."
   ]
  },
  {
   "cell_type": "code",
   "execution_count": 351,
   "metadata": {},
   "outputs": [
    {
     "data": {
      "text/plain": [
       "count   75930.00000\n",
       "mean       34.22936\n",
       "std        21.76118\n",
       "min         0.00000\n",
       "25%        16.00000\n",
       "50%        31.00000\n",
       "75%        50.00000\n",
       "max       180.00000\n",
       "Name: Months_Since_Deliquency, dtype: float64"
      ]
     },
     "execution_count": 351,
     "metadata": {},
     "output_type": "execute_result"
    }
   ],
   "source": [
    "train['Months_Since_Deliquency'].describe()"
   ]
  },
  {
   "cell_type": "markdown",
   "metadata": {},
   "source": [
    "1. More than 50% missing values in this variable. We have to check how useful this variable is.\n",
    "2. One way is , if the Months_Since_Deliquency is low, then the interest charged might be higher and vice versa."
   ]
  },
  {
   "cell_type": "code",
   "execution_count": 352,
   "metadata": {},
   "outputs": [
    {
     "data": {
      "text/plain": [
       "count   164309.00000\n",
       "mean        11.19382\n",
       "std          4.99181\n",
       "min          0.00000\n",
       "25%          8.00000\n",
       "50%         10.00000\n",
       "75%         14.00000\n",
       "max         76.00000\n",
       "Name: Number_Open_Accounts, dtype: float64"
      ]
     },
     "execution_count": 352,
     "metadata": {},
     "output_type": "execute_result"
    }
   ],
   "source": [
    "train['Number_Open_Accounts'].describe()"
   ]
  },
  {
   "cell_type": "code",
   "execution_count": 353,
   "metadata": {},
   "outputs": [
    {
     "data": {
      "text/plain": [
       "58"
      ]
     },
     "execution_count": 353,
     "metadata": {},
     "output_type": "execute_result"
    }
   ],
   "source": [
    "train['Number_Open_Accounts'].nunique()"
   ]
  },
  {
   "cell_type": "code",
   "execution_count": 354,
   "metadata": {},
   "outputs": [
    {
     "data": {
      "text/plain": [
       "9     15766\n",
       "10    14905\n",
       "8     14678\n",
       "11    13732\n",
       "7     13294\n",
       "12    12332\n",
       "6     10840\n",
       "13    10352\n",
       "14     8619\n",
       "5      7585\n",
       "Name: Number_Open_Accounts, dtype: int64"
      ]
     },
     "execution_count": 354,
     "metadata": {},
     "output_type": "execute_result"
    }
   ],
   "source": [
    "train['Number_Open_Accounts'].value_counts().head(10)"
   ]
  },
  {
   "cell_type": "markdown",
   "metadata": {},
   "source": [
    "1. Most of the people have more than 6 open accounts currently."
   ]
  },
  {
   "cell_type": "code",
   "execution_count": 355,
   "metadata": {},
   "outputs": [
    {
     "data": {
      "text/plain": [
       "count   164309.00000\n",
       "mean        25.06767\n",
       "std         11.58307\n",
       "min          2.00000\n",
       "25%         17.00000\n",
       "50%         23.00000\n",
       "75%         32.00000\n",
       "max        156.00000\n",
       "Name: Total_Accounts, dtype: float64"
      ]
     },
     "execution_count": 355,
     "metadata": {},
     "output_type": "execute_result"
    }
   ],
   "source": [
    "train['Total_Accounts'].describe()"
   ]
  },
  {
   "cell_type": "code",
   "execution_count": 356,
   "metadata": {},
   "outputs": [
    {
     "data": {
      "text/plain": [
       "21    6137\n",
       "22    6093\n",
       "20    5987\n",
       "18    5973\n",
       "19    5961\n",
       "23    5903\n",
       "24    5768\n",
       "17    5732\n",
       "16    5615\n",
       "25    5550\n",
       "Name: Total_Accounts, dtype: int64"
      ]
     },
     "execution_count": 356,
     "metadata": {},
     "output_type": "execute_result"
    }
   ],
   "source": [
    "train['Total_Accounts'].value_counts().head(10)"
   ]
  },
  {
   "cell_type": "code",
   "execution_count": 357,
   "metadata": {},
   "outputs": [
    {
     "data": {
      "text/html": [
       "<div>\n",
       "<style scoped>\n",
       "    .dataframe tbody tr th:only-of-type {\n",
       "        vertical-align: middle;\n",
       "    }\n",
       "\n",
       "    .dataframe tbody tr th {\n",
       "        vertical-align: top;\n",
       "    }\n",
       "\n",
       "    .dataframe thead th {\n",
       "        text-align: right;\n",
       "    }\n",
       "</style>\n",
       "<table border=\"1\" class=\"dataframe\">\n",
       "  <thead>\n",
       "    <tr style=\"text-align: right;\">\n",
       "      <th></th>\n",
       "      <th>Number_Open_Accounts</th>\n",
       "      <th>Total_Accounts</th>\n",
       "    </tr>\n",
       "  </thead>\n",
       "  <tbody>\n",
       "    <tr>\n",
       "      <th>0</th>\n",
       "      <td>9</td>\n",
       "      <td>14</td>\n",
       "    </tr>\n",
       "    <tr>\n",
       "      <th>1</th>\n",
       "      <td>12</td>\n",
       "      <td>24</td>\n",
       "    </tr>\n",
       "    <tr>\n",
       "      <th>2</th>\n",
       "      <td>12</td>\n",
       "      <td>16</td>\n",
       "    </tr>\n",
       "    <tr>\n",
       "      <th>3</th>\n",
       "      <td>16</td>\n",
       "      <td>22</td>\n",
       "    </tr>\n",
       "    <tr>\n",
       "      <th>4</th>\n",
       "      <td>19</td>\n",
       "      <td>30</td>\n",
       "    </tr>\n",
       "    <tr>\n",
       "      <th>...</th>\n",
       "      <td>...</td>\n",
       "      <td>...</td>\n",
       "    </tr>\n",
       "    <tr>\n",
       "      <th>164304</th>\n",
       "      <td>13</td>\n",
       "      <td>16</td>\n",
       "    </tr>\n",
       "    <tr>\n",
       "      <th>164305</th>\n",
       "      <td>13</td>\n",
       "      <td>30</td>\n",
       "    </tr>\n",
       "    <tr>\n",
       "      <th>164306</th>\n",
       "      <td>17</td>\n",
       "      <td>30</td>\n",
       "    </tr>\n",
       "    <tr>\n",
       "      <th>164307</th>\n",
       "      <td>16</td>\n",
       "      <td>62</td>\n",
       "    </tr>\n",
       "    <tr>\n",
       "      <th>164308</th>\n",
       "      <td>5</td>\n",
       "      <td>9</td>\n",
       "    </tr>\n",
       "  </tbody>\n",
       "</table>\n",
       "<p>164309 rows × 2 columns</p>\n",
       "</div>"
      ],
      "text/plain": [
       "        Number_Open_Accounts  Total_Accounts\n",
       "0                          9              14\n",
       "1                         12              24\n",
       "2                         12              16\n",
       "3                         16              22\n",
       "4                         19              30\n",
       "...                      ...             ...\n",
       "164304                    13              16\n",
       "164305                    13              30\n",
       "164306                    17              30\n",
       "164307                    16              62\n",
       "164308                     5               9\n",
       "\n",
       "[164309 rows x 2 columns]"
      ]
     },
     "execution_count": 357,
     "metadata": {},
     "output_type": "execute_result"
    }
   ],
   "source": [
    "train[['Number_Open_Accounts','Total_Accounts']]"
   ]
  },
  {
   "cell_type": "markdown",
   "metadata": {},
   "source": [
    "1. We can find the number of accounts closed by the customers. "
   ]
  },
  {
   "cell_type": "code",
   "execution_count": 358,
   "metadata": {},
   "outputs": [
    {
     "data": {
      "text/plain": [
       "<matplotlib.axes._subplots.AxesSubplot at 0x18f86ede488>"
      ]
     },
     "execution_count": 358,
     "metadata": {},
     "output_type": "execute_result"
    },
    {
     "data": {
      "image/png": "[encoded data removed]",
      "text/plain": [
       "<Figure size 432x288 with 1 Axes>"
      ]
     },
     "metadata": {},
     "output_type": "display_data"
    }
   ],
   "source": [
    "train['Gender'].value_counts(dropna=False).plot(kind='bar')\n",
    "# No missing values here.\n",
    "# Male population is greater than Female."
   ]
  },
  {
   "cell_type": "markdown",
   "metadata": {},
   "source": [
    "### Dependent Variable"
   ]
  },
  {
   "cell_type": "code",
   "execution_count": 359,
   "metadata": {},
   "outputs": [
    {
     "data": {
      "text/plain": [
       "2    70580\n",
       "3    59923\n",
       "1    33806\n",
       "Name: Interest_Rate, dtype: int64"
      ]
     },
     "execution_count": 359,
     "metadata": {},
     "output_type": "execute_result"
    }
   ],
   "source": [
    "train['Interest_Rate'].value_counts()"
   ]
  },
  {
   "cell_type": "code",
   "execution_count": 360,
   "metadata": {},
   "outputs": [
    {
     "data": {
      "text/plain": [
       "<matplotlib.axes._subplots.AxesSubplot at 0x18f86f4ef48>"
      ]
     },
     "execution_count": 360,
     "metadata": {},
     "output_type": "execute_result"
    },
    {
     "data": {
      "image/png": "[encoded data removed]",
      "text/plain": [
       "<Figure size 432x288 with 1 Axes>"
      ]
     },
     "metadata": {},
     "output_type": "display_data"
    }
   ],
   "source": [
    "train['Interest_Rate'].value_counts().plot(kind='bar')"
   ]
  },
  {
   "cell_type": "markdown",
   "metadata": {},
   "source": [
    "1. Interest Rate 2 seems to be more popular. Followed by 3 and 1.\n",
    "2. Around 50% of them are applicable for Interest Rate category 2."
   ]
  },
  {
   "cell_type": "markdown",
   "metadata": {},
   "source": [
    "### Bi-Variate Analysis"
   ]
  },
  {
   "cell_type": "code",
   "execution_count": 361,
   "metadata": {},
   "outputs": [
    {
     "data": {
      "text/html": [
       "<div>\n",
       "<style scoped>\n",
       "    .dataframe tbody tr th:only-of-type {\n",
       "        vertical-align: middle;\n",
       "    }\n",
       "\n",
       "    .dataframe tbody tr th {\n",
       "        vertical-align: top;\n",
       "    }\n",
       "\n",
       "    .dataframe thead th {\n",
       "        text-align: right;\n",
       "    }\n",
       "</style>\n",
       "<table border=\"1\" class=\"dataframe\">\n",
       "  <thead>\n",
       "    <tr style=\"text-align: right;\">\n",
       "      <th></th>\n",
       "      <th>count</th>\n",
       "      <th>min</th>\n",
       "      <th>max</th>\n",
       "      <th>mean</th>\n",
       "      <th>median</th>\n",
       "      <th>std</th>\n",
       "    </tr>\n",
       "    <tr>\n",
       "      <th>Length_Employed</th>\n",
       "      <th></th>\n",
       "      <th></th>\n",
       "      <th></th>\n",
       "      <th></th>\n",
       "      <th></th>\n",
       "      <th></th>\n",
       "    </tr>\n",
       "  </thead>\n",
       "  <tbody>\n",
       "    <tr>\n",
       "      <th>1 year</th>\n",
       "      <td>10422</td>\n",
       "      <td>725.00000</td>\n",
       "      <td>35000.00000</td>\n",
       "      <td>13242.35511</td>\n",
       "      <td>11500.00000</td>\n",
       "      <td>7980.59515</td>\n",
       "    </tr>\n",
       "    <tr>\n",
       "      <th>10+ years</th>\n",
       "      <td>52915</td>\n",
       "      <td>1000.00000</td>\n",
       "      <td>35000.00000</td>\n",
       "      <td>15800.17197</td>\n",
       "      <td>15000.00000</td>\n",
       "      <td>8589.97393</td>\n",
       "    </tr>\n",
       "    <tr>\n",
       "      <th>2 years</th>\n",
       "      <td>14620</td>\n",
       "      <td>800.00000</td>\n",
       "      <td>35000.00000</td>\n",
       "      <td>13592.09302</td>\n",
       "      <td>12000.00000</td>\n",
       "      <td>8067.72703</td>\n",
       "    </tr>\n",
       "    <tr>\n",
       "      <th>3 years</th>\n",
       "      <td>12974</td>\n",
       "      <td>500.00000</td>\n",
       "      <td>35000.00000</td>\n",
       "      <td>13699.46046</td>\n",
       "      <td>12000.00000</td>\n",
       "      <td>8011.62477</td>\n",
       "    </tr>\n",
       "    <tr>\n",
       "      <th>4 years</th>\n",
       "      <td>9784</td>\n",
       "      <td>900.00000</td>\n",
       "      <td>35000.00000</td>\n",
       "      <td>13733.13062</td>\n",
       "      <td>12000.00000</td>\n",
       "      <td>7972.66929</td>\n",
       "    </tr>\n",
       "    <tr>\n",
       "      <th>5 years</th>\n",
       "      <td>10814</td>\n",
       "      <td>1000.00000</td>\n",
       "      <td>35000.00000</td>\n",
       "      <td>13850.90623</td>\n",
       "      <td>12000.00000</td>\n",
       "      <td>8043.10049</td>\n",
       "    </tr>\n",
       "    <tr>\n",
       "      <th>6 years</th>\n",
       "      <td>9094</td>\n",
       "      <td>1000.00000</td>\n",
       "      <td>35000.00000</td>\n",
       "      <td>14103.21641</td>\n",
       "      <td>12000.00000</td>\n",
       "      <td>8004.24463</td>\n",
       "    </tr>\n",
       "    <tr>\n",
       "      <th>7 years</th>\n",
       "      <td>9308</td>\n",
       "      <td>1000.00000</td>\n",
       "      <td>35000.00000</td>\n",
       "      <td>14439.63795</td>\n",
       "      <td>12762.50000</td>\n",
       "      <td>8068.94375</td>\n",
       "    </tr>\n",
       "    <tr>\n",
       "      <th>8 years</th>\n",
       "      <td>7917</td>\n",
       "      <td>1000.00000</td>\n",
       "      <td>35000.00000</td>\n",
       "      <td>14517.36137</td>\n",
       "      <td>12975.00000</td>\n",
       "      <td>8135.98214</td>\n",
       "    </tr>\n",
       "    <tr>\n",
       "      <th>9 years</th>\n",
       "      <td>6285</td>\n",
       "      <td>1000.00000</td>\n",
       "      <td>35000.00000</td>\n",
       "      <td>14850.68815</td>\n",
       "      <td>13475.00000</td>\n",
       "      <td>8117.23912</td>\n",
       "    </tr>\n",
       "    <tr>\n",
       "      <th>&lt; 1 year</th>\n",
       "      <td>12805</td>\n",
       "      <td>500.00000</td>\n",
       "      <td>35000.00000</td>\n",
       "      <td>13073.04959</td>\n",
       "      <td>11200.00000</td>\n",
       "      <td>8065.61788</td>\n",
       "    </tr>\n",
       "  </tbody>\n",
       "</table>\n",
       "</div>"
      ],
      "text/plain": [
       "                 count        min         max        mean      median  \\\n",
       "Length_Employed                                                         \n",
       "1 year           10422  725.00000 35000.00000 13242.35511 11500.00000   \n",
       "10+ years        52915 1000.00000 35000.00000 15800.17197 15000.00000   \n",
       "2 years          14620  800.00000 35000.00000 13592.09302 12000.00000   \n",
       "3 years          12974  500.00000 35000.00000 13699.46046 12000.00000   \n",
       "4 years           9784  900.00000 35000.00000 13733.13062 12000.00000   \n",
       "5 years          10814 1000.00000 35000.00000 13850.90623 12000.00000   \n",
       "6 years           9094 1000.00000 35000.00000 14103.21641 12000.00000   \n",
       "7 years           9308 1000.00000 35000.00000 14439.63795 12762.50000   \n",
       "8 years           7917 1000.00000 35000.00000 14517.36137 12975.00000   \n",
       "9 years           6285 1000.00000 35000.00000 14850.68815 13475.00000   \n",
       "< 1 year         12805  500.00000 35000.00000 13073.04959 11200.00000   \n",
       "\n",
       "                       std  \n",
       "Length_Employed             \n",
       "1 year          7980.59515  \n",
       "10+ years       8589.97393  \n",
       "2 years         8067.72703  \n",
       "3 years         8011.62477  \n",
       "4 years         7972.66929  \n",
       "5 years         8043.10049  \n",
       "6 years         8004.24463  \n",
       "7 years         8068.94375  \n",
       "8 years         8135.98214  \n",
       "9 years         8117.23912  \n",
       "< 1 year        8065.61788  "
      ]
     },
     "execution_count": 361,
     "metadata": {},
     "output_type": "execute_result"
    }
   ],
   "source": [
    "train.groupby('Length_Employed')['Loan_Amount_Requested'].agg(['count','min','max','mean','median','std'])"
   ]
  },
  {
   "cell_type": "markdown",
   "metadata": {},
   "source": [
    "1. We can see that the average Loan Amount Requested is maximum for people with 10+ years of employment.\n",
    "2. The maximum value of the Loan_Amount_Requested is same for all levels of employment although minimum amount differs.\n",
    "3. The average Loan_Amount_Requested is minimum for people with <1 year of being employed. "
   ]
  },
  {
   "cell_type": "code",
   "execution_count": 362,
   "metadata": {},
   "outputs": [
    {
     "data": {
      "text/html": [
       "<div>\n",
       "<style scoped>\n",
       "    .dataframe tbody tr th:only-of-type {\n",
       "        vertical-align: middle;\n",
       "    }\n",
       "\n",
       "    .dataframe tbody tr th {\n",
       "        vertical-align: top;\n",
       "    }\n",
       "\n",
       "    .dataframe thead th {\n",
       "        text-align: right;\n",
       "    }\n",
       "</style>\n",
       "<table border=\"1\" class=\"dataframe\">\n",
       "  <thead>\n",
       "    <tr style=\"text-align: right;\">\n",
       "      <th></th>\n",
       "      <th>count</th>\n",
       "      <th>min</th>\n",
       "      <th>max</th>\n",
       "      <th>mean</th>\n",
       "      <th>median</th>\n",
       "      <th>std</th>\n",
       "    </tr>\n",
       "    <tr>\n",
       "      <th>Home_Owner</th>\n",
       "      <th></th>\n",
       "      <th></th>\n",
       "      <th></th>\n",
       "      <th></th>\n",
       "      <th></th>\n",
       "      <th></th>\n",
       "    </tr>\n",
       "  </thead>\n",
       "  <tbody>\n",
       "    <tr>\n",
       "      <th>Mortgage</th>\n",
       "      <td>70345</td>\n",
       "      <td>500.00000</td>\n",
       "      <td>35000.00000</td>\n",
       "      <td>16040.13221</td>\n",
       "      <td>15000.00000</td>\n",
       "      <td>8624.63694</td>\n",
       "    </tr>\n",
       "    <tr>\n",
       "      <th>None</th>\n",
       "      <td>10</td>\n",
       "      <td>2800.00000</td>\n",
       "      <td>15000.00000</td>\n",
       "      <td>9420.00000</td>\n",
       "      <td>10375.00000</td>\n",
       "      <td>3766.53392</td>\n",
       "    </tr>\n",
       "    <tr>\n",
       "      <th>Other</th>\n",
       "      <td>49</td>\n",
       "      <td>1000.00000</td>\n",
       "      <td>35000.00000</td>\n",
       "      <td>10642.85714</td>\n",
       "      <td>10000.00000</td>\n",
       "      <td>6569.13157</td>\n",
       "    </tr>\n",
       "    <tr>\n",
       "      <th>Own</th>\n",
       "      <td>12525</td>\n",
       "      <td>900.00000</td>\n",
       "      <td>35000.00000</td>\n",
       "      <td>13567.70459</td>\n",
       "      <td>12000.00000</td>\n",
       "      <td>8135.51076</td>\n",
       "    </tr>\n",
       "    <tr>\n",
       "      <th>Rent</th>\n",
       "      <td>56031</td>\n",
       "      <td>500.00000</td>\n",
       "      <td>35000.00000</td>\n",
       "      <td>12443.83199</td>\n",
       "      <td>10625.00000</td>\n",
       "      <td>7413.27292</td>\n",
       "    </tr>\n",
       "  </tbody>\n",
       "</table>\n",
       "</div>"
      ],
      "text/plain": [
       "            count        min         max        mean      median        std\n",
       "Home_Owner                                                                 \n",
       "Mortgage    70345  500.00000 35000.00000 16040.13221 15000.00000 8624.63694\n",
       "None           10 2800.00000 15000.00000  9420.00000 10375.00000 3766.53392\n",
       "Other          49 1000.00000 35000.00000 10642.85714 10000.00000 6569.13157\n",
       "Own         12525  900.00000 35000.00000 13567.70459 12000.00000 8135.51076\n",
       "Rent        56031  500.00000 35000.00000 12443.83199 10625.00000 7413.27292"
      ]
     },
     "execution_count": 362,
     "metadata": {},
     "output_type": "execute_result"
    }
   ],
   "source": [
    "train.groupby('Home_Owner')['Loan_Amount_Requested'].agg(['count','min','max','mean','median','std'])"
   ]
  },
  {
   "cell_type": "markdown",
   "metadata": {},
   "source": [
    "1. We can see the average Loan_Amount_Requested is maximum for people with Home_Owner status as Mortgage."
   ]
  },
  {
   "cell_type": "code",
   "execution_count": 363,
   "metadata": {},
   "outputs": [
    {
     "data": {
      "text/plain": [
       "<matplotlib.axes._subplots.AxesSubplot at 0x18f86fc0088>"
      ]
     },
     "execution_count": 363,
     "metadata": {},
     "output_type": "execute_result"
    },
    {
     "data": {
      "image/png": "[encoded data removed]",
      "text/plain": [
       "<Figure size 864x432 with 1 Axes>"
      ]
     },
     "metadata": {},
     "output_type": "display_data"
    }
   ],
   "source": [
    "plt.figure(figsize=(12,6))\n",
    "sns.scatterplot(x=train['Loan_Amount_Requested'],y=train['Annual_Income'])"
   ]
  },
  {
   "cell_type": "markdown",
   "metadata": {},
   "source": [
    "1. We can see the points at the top of the plot that although the Annual_Income is high, the Loan_Amount_Requested is low.\n",
    "2. We can also see a few Annual_Incomes that are more than 1000000."
   ]
  },
  {
   "cell_type": "code",
   "execution_count": 364,
   "metadata": {},
   "outputs": [
    {
     "data": {
      "text/html": [
       "<div>\n",
       "<style scoped>\n",
       "    .dataframe tbody tr th:only-of-type {\n",
       "        vertical-align: middle;\n",
       "    }\n",
       "\n",
       "    .dataframe tbody tr th {\n",
       "        vertical-align: top;\n",
       "    }\n",
       "\n",
       "    .dataframe thead th {\n",
       "        text-align: right;\n",
       "    }\n",
       "</style>\n",
       "<table border=\"1\" class=\"dataframe\">\n",
       "  <thead>\n",
       "    <tr style=\"text-align: right;\">\n",
       "      <th></th>\n",
       "      <th>count</th>\n",
       "      <th>min</th>\n",
       "      <th>max</th>\n",
       "      <th>mean</th>\n",
       "      <th>median</th>\n",
       "      <th>std</th>\n",
       "    </tr>\n",
       "    <tr>\n",
       "      <th>Purpose_Of_Loan</th>\n",
       "      <th></th>\n",
       "      <th></th>\n",
       "      <th></th>\n",
       "      <th></th>\n",
       "      <th></th>\n",
       "      <th></th>\n",
       "    </tr>\n",
       "  </thead>\n",
       "  <tbody>\n",
       "    <tr>\n",
       "      <th>car</th>\n",
       "      <td>1885</td>\n",
       "      <td>1000.00000</td>\n",
       "      <td>35000.00000</td>\n",
       "      <td>8053.80637</td>\n",
       "      <td>6000.00000</td>\n",
       "      <td>5608.11831</td>\n",
       "    </tr>\n",
       "    <tr>\n",
       "      <th>credit_card</th>\n",
       "      <td>36684</td>\n",
       "      <td>725.00000</td>\n",
       "      <td>35000.00000</td>\n",
       "      <td>14754.31387</td>\n",
       "      <td>13000.00000</td>\n",
       "      <td>7999.01369</td>\n",
       "    </tr>\n",
       "    <tr>\n",
       "      <th>debt_consolidation</th>\n",
       "      <td>97101</td>\n",
       "      <td>800.00000</td>\n",
       "      <td>35000.00000</td>\n",
       "      <td>15148.55357</td>\n",
       "      <td>14000.00000</td>\n",
       "      <td>8164.93558</td>\n",
       "    </tr>\n",
       "    <tr>\n",
       "      <th>educational</th>\n",
       "      <td>121</td>\n",
       "      <td>1000.00000</td>\n",
       "      <td>25000.00000</td>\n",
       "      <td>7110.12397</td>\n",
       "      <td>6000.00000</td>\n",
       "      <td>4871.18930</td>\n",
       "    </tr>\n",
       "    <tr>\n",
       "      <th>home_improvement</th>\n",
       "      <td>9269</td>\n",
       "      <td>900.00000</td>\n",
       "      <td>35000.00000</td>\n",
       "      <td>13867.46682</td>\n",
       "      <td>12000.00000</td>\n",
       "      <td>8834.93643</td>\n",
       "    </tr>\n",
       "    <tr>\n",
       "      <th>house</th>\n",
       "      <td>773</td>\n",
       "      <td>1000.00000</td>\n",
       "      <td>35000.00000</td>\n",
       "      <td>15042.20569</td>\n",
       "      <td>13475.00000</td>\n",
       "      <td>8731.60353</td>\n",
       "    </tr>\n",
       "    <tr>\n",
       "      <th>major_purchase</th>\n",
       "      <td>3435</td>\n",
       "      <td>1000.00000</td>\n",
       "      <td>35000.00000</td>\n",
       "      <td>10394.65793</td>\n",
       "      <td>8000.00000</td>\n",
       "      <td>7929.41640</td>\n",
       "    </tr>\n",
       "    <tr>\n",
       "      <th>medical</th>\n",
       "      <td>1541</td>\n",
       "      <td>1000.00000</td>\n",
       "      <td>35000.00000</td>\n",
       "      <td>8913.85464</td>\n",
       "      <td>6850.00000</td>\n",
       "      <td>6923.46896</td>\n",
       "    </tr>\n",
       "    <tr>\n",
       "      <th>moving</th>\n",
       "      <td>974</td>\n",
       "      <td>1000.00000</td>\n",
       "      <td>35000.00000</td>\n",
       "      <td>7668.81417</td>\n",
       "      <td>5375.00000</td>\n",
       "      <td>6418.66174</td>\n",
       "    </tr>\n",
       "    <tr>\n",
       "      <th>other</th>\n",
       "      <td>8346</td>\n",
       "      <td>500.00000</td>\n",
       "      <td>35000.00000</td>\n",
       "      <td>9635.49305</td>\n",
       "      <td>7662.50000</td>\n",
       "      <td>7348.54411</td>\n",
       "    </tr>\n",
       "    <tr>\n",
       "      <th>renewable_energy</th>\n",
       "      <td>123</td>\n",
       "      <td>1000.00000</td>\n",
       "      <td>35000.00000</td>\n",
       "      <td>10958.13008</td>\n",
       "      <td>10000.00000</td>\n",
       "      <td>7810.49597</td>\n",
       "    </tr>\n",
       "    <tr>\n",
       "      <th>small_business</th>\n",
       "      <td>2392</td>\n",
       "      <td>500.00000</td>\n",
       "      <td>35000.00000</td>\n",
       "      <td>15427.45610</td>\n",
       "      <td>13600.00000</td>\n",
       "      <td>9339.39760</td>\n",
       "    </tr>\n",
       "    <tr>\n",
       "      <th>vacation</th>\n",
       "      <td>837</td>\n",
       "      <td>500.00000</td>\n",
       "      <td>35000.00000</td>\n",
       "      <td>6300.62724</td>\n",
       "      <td>5000.00000</td>\n",
       "      <td>5033.51911</td>\n",
       "    </tr>\n",
       "    <tr>\n",
       "      <th>wedding</th>\n",
       "      <td>828</td>\n",
       "      <td>1000.00000</td>\n",
       "      <td>35000.00000</td>\n",
       "      <td>10239.40217</td>\n",
       "      <td>8500.00000</td>\n",
       "      <td>6519.79454</td>\n",
       "    </tr>\n",
       "  </tbody>\n",
       "</table>\n",
       "</div>"
      ],
      "text/plain": [
       "                    count        min         max        mean      median  \\\n",
       "Purpose_Of_Loan                                                            \n",
       "car                  1885 1000.00000 35000.00000  8053.80637  6000.00000   \n",
       "credit_card         36684  725.00000 35000.00000 14754.31387 13000.00000   \n",
       "debt_consolidation  97101  800.00000 35000.00000 15148.55357 14000.00000   \n",
       "educational           121 1000.00000 25000.00000  7110.12397  6000.00000   \n",
       "home_improvement     9269  900.00000 35000.00000 13867.46682 12000.00000   \n",
       "house                 773 1000.00000 35000.00000 15042.20569 13475.00000   \n",
       "major_purchase       3435 1000.00000 35000.00000 10394.65793  8000.00000   \n",
       "medical              1541 1000.00000 35000.00000  8913.85464  6850.00000   \n",
       "moving                974 1000.00000 35000.00000  7668.81417  5375.00000   \n",
       "other                8346  500.00000 35000.00000  9635.49305  7662.50000   \n",
       "renewable_energy      123 1000.00000 35000.00000 10958.13008 10000.00000   \n",
       "small_business       2392  500.00000 35000.00000 15427.45610 13600.00000   \n",
       "vacation              837  500.00000 35000.00000  6300.62724  5000.00000   \n",
       "wedding               828 1000.00000 35000.00000 10239.40217  8500.00000   \n",
       "\n",
       "                          std  \n",
       "Purpose_Of_Loan                \n",
       "car                5608.11831  \n",
       "credit_card        7999.01369  \n",
       "debt_consolidation 8164.93558  \n",
       "educational        4871.18930  \n",
       "home_improvement   8834.93643  \n",
       "house              8731.60353  \n",
       "major_purchase     7929.41640  \n",
       "medical            6923.46896  \n",
       "moving             6418.66174  \n",
       "other              7348.54411  \n",
       "renewable_energy   7810.49597  \n",
       "small_business     9339.39760  \n",
       "vacation           5033.51911  \n",
       "wedding            6519.79454  "
      ]
     },
     "execution_count": 364,
     "metadata": {},
     "output_type": "execute_result"
    }
   ],
   "source": [
    "train.groupby('Purpose_Of_Loan')['Loan_Amount_Requested'].agg(['count','min','max','mean','median','std'])"
   ]
  },
  {
   "cell_type": "markdown",
   "metadata": {},
   "source": [
    "1. As we can see from the table above, the average loan amount requested is highest for small business followed by debt_consolidation.\n",
    "2. Average income requested is also high for House loans. "
   ]
  },
  {
   "cell_type": "code",
   "execution_count": 365,
   "metadata": {},
   "outputs": [
    {
     "data": {
      "text/html": [
       "<div>\n",
       "<style scoped>\n",
       "    .dataframe tbody tr th:only-of-type {\n",
       "        vertical-align: middle;\n",
       "    }\n",
       "\n",
       "    .dataframe tbody tr th {\n",
       "        vertical-align: top;\n",
       "    }\n",
       "\n",
       "    .dataframe thead th {\n",
       "        text-align: right;\n",
       "    }\n",
       "</style>\n",
       "<table border=\"1\" class=\"dataframe\">\n",
       "  <thead>\n",
       "    <tr style=\"text-align: right;\">\n",
       "      <th></th>\n",
       "      <th>count</th>\n",
       "      <th>min</th>\n",
       "      <th>max</th>\n",
       "      <th>mean</th>\n",
       "      <th>median</th>\n",
       "      <th>std</th>\n",
       "    </tr>\n",
       "    <tr>\n",
       "      <th>Interest_Rate</th>\n",
       "      <th></th>\n",
       "      <th></th>\n",
       "      <th></th>\n",
       "      <th></th>\n",
       "      <th></th>\n",
       "      <th></th>\n",
       "    </tr>\n",
       "  </thead>\n",
       "  <tbody>\n",
       "    <tr>\n",
       "      <th>1</th>\n",
       "      <td>33806</td>\n",
       "      <td>500.00000</td>\n",
       "      <td>35000.00000</td>\n",
       "      <td>13351.44353</td>\n",
       "      <td>12000.00000</td>\n",
       "      <td>7307.25592</td>\n",
       "    </tr>\n",
       "    <tr>\n",
       "      <th>2</th>\n",
       "      <td>70580</td>\n",
       "      <td>500.00000</td>\n",
       "      <td>35000.00000</td>\n",
       "      <td>13419.25191</td>\n",
       "      <td>12000.00000</td>\n",
       "      <td>7759.82318</td>\n",
       "    </tr>\n",
       "    <tr>\n",
       "      <th>3</th>\n",
       "      <td>59923</td>\n",
       "      <td>1000.00000</td>\n",
       "      <td>35000.00000</td>\n",
       "      <td>16007.80168</td>\n",
       "      <td>15000.00000</td>\n",
       "      <td>9093.71145</td>\n",
       "    </tr>\n",
       "  </tbody>\n",
       "</table>\n",
       "</div>"
      ],
      "text/plain": [
       "               count        min         max        mean      median        std\n",
       "Interest_Rate                                                                 \n",
       "1              33806  500.00000 35000.00000 13351.44353 12000.00000 7307.25592\n",
       "2              70580  500.00000 35000.00000 13419.25191 12000.00000 7759.82318\n",
       "3              59923 1000.00000 35000.00000 16007.80168 15000.00000 9093.71145"
      ]
     },
     "execution_count": 365,
     "metadata": {},
     "output_type": "execute_result"
    }
   ],
   "source": [
    "train.groupby('Interest_Rate')['Loan_Amount_Requested'].agg(['count','min','max','mean','median','std'])"
   ]
  },
  {
   "cell_type": "markdown",
   "metadata": {},
   "source": [
    "1. Clearly, there is a distinction between the average loan amount requested for the type of interest rates.\n",
    "2. Average Loan Amount seems to be high for Interest Rate category 3 and there is not much between the loan amount for categories 1 and 2. "
   ]
  },
  {
   "cell_type": "code",
   "execution_count": 366,
   "metadata": {},
   "outputs": [
    {
     "data": {
      "text/html": [
       "<div>\n",
       "<style scoped>\n",
       "    .dataframe tbody tr th:only-of-type {\n",
       "        vertical-align: middle;\n",
       "    }\n",
       "\n",
       "    .dataframe tbody tr th {\n",
       "        vertical-align: top;\n",
       "    }\n",
       "\n",
       "    .dataframe thead th {\n",
       "        text-align: right;\n",
       "    }\n",
       "</style>\n",
       "<table border=\"1\" class=\"dataframe\">\n",
       "  <thead>\n",
       "    <tr style=\"text-align: right;\">\n",
       "      <th></th>\n",
       "      <th>count</th>\n",
       "      <th>min</th>\n",
       "      <th>max</th>\n",
       "      <th>mean</th>\n",
       "      <th>median</th>\n",
       "      <th>std</th>\n",
       "    </tr>\n",
       "    <tr>\n",
       "      <th>Interest_Rate</th>\n",
       "      <th></th>\n",
       "      <th></th>\n",
       "      <th></th>\n",
       "      <th></th>\n",
       "      <th></th>\n",
       "      <th></th>\n",
       "    </tr>\n",
       "  </thead>\n",
       "  <tbody>\n",
       "    <tr>\n",
       "      <th>1</th>\n",
       "      <td>28647</td>\n",
       "      <td>5000.00000</td>\n",
       "      <td>4900000.00000</td>\n",
       "      <td>81295.25636</td>\n",
       "      <td>70000.00000</td>\n",
       "      <td>61017.45729</td>\n",
       "    </tr>\n",
       "    <tr>\n",
       "      <th>2</th>\n",
       "      <td>59860</td>\n",
       "      <td>4000.00000</td>\n",
       "      <td>7141778.00000</td>\n",
       "      <td>71179.18560</td>\n",
       "      <td>60000.00000</td>\n",
       "      <td>59099.90991</td>\n",
       "    </tr>\n",
       "    <tr>\n",
       "      <th>3</th>\n",
       "      <td>50700</td>\n",
       "      <td>4800.00000</td>\n",
       "      <td>7500000.00000</td>\n",
       "      <td>71371.98131</td>\n",
       "      <td>60000.00000</td>\n",
       "      <td>61129.10497</td>\n",
       "    </tr>\n",
       "  </tbody>\n",
       "</table>\n",
       "</div>"
      ],
      "text/plain": [
       "               count        min           max        mean      median  \\\n",
       "Interest_Rate                                                           \n",
       "1              28647 5000.00000 4900000.00000 81295.25636 70000.00000   \n",
       "2              59860 4000.00000 7141778.00000 71179.18560 60000.00000   \n",
       "3              50700 4800.00000 7500000.00000 71371.98131 60000.00000   \n",
       "\n",
       "                      std  \n",
       "Interest_Rate              \n",
       "1             61017.45729  \n",
       "2             59099.90991  \n",
       "3             61129.10497  "
      ]
     },
     "execution_count": 366,
     "metadata": {},
     "output_type": "execute_result"
    }
   ],
   "source": [
    "train.groupby('Interest_Rate')['Annual_Income'].agg(['count','min','max','mean','median','std'])"
   ]
  },
  {
   "cell_type": "markdown",
   "metadata": {},
   "source": [
    "1. The mean Annual_Income for Interest Rate Category 1 is the highest. And it is almost the same for Interest Rate categories 2 and 3. "
   ]
  },
  {
   "cell_type": "markdown",
   "metadata": {},
   "source": [
    "### Feature Generation, Feature Extraction, etc .."
   ]
  },
  {
   "cell_type": "code",
   "execution_count": 367,
   "metadata": {},
   "outputs": [],
   "source": [
    "for df in [train,test]:\n",
    "    # Filling Missing Values\n",
    "    df['Length_Employed'].fillna(\"Missing\",inplace=True)\n",
    "    df['Home_Owner'].fillna(\"Missing\",inplace=True)\n",
    "    df['Home_Owner'].replace({\"Other\":\"New\",\"None\":\"New\"},inplace=True) # Combining Other and None to a single Category\n",
    "    df['Annual_Income'].fillna(df['Annual_Income'].mean(),inplace=True) # Filling missing value with mean income\n",
    "    df['Deliquency_Status'] = df['Months_Since_Deliquency'].apply(lambda x: 1 if x>0 else 0)\n",
    "    \n",
    "    # Feature Generation\n",
    "    df['Closed_Accounts'] = df['Total_Accounts']-df['Number_Open_Accounts']\n",
    "    df['Monthly_Income'] = df['Annual_Income']/12\n",
    "    df.drop(\"Months_Since_Deliquency\",axis=1,inplace=True)\n",
    "    df['Loan_Amount_As_Pct_Of_Income'] = np.round((df['Loan_Amount_Requested']/df['Annual_Income'])*100,2)"
   ]
  },
  {
   "cell_type": "code",
   "execution_count": 368,
   "metadata": {},
   "outputs": [],
   "source": [
    "def income_bracket(x):\n",
    "    if x<=30000:\n",
    "        return \"Low\"\n",
    "    elif (x>30000 and x<=60000):\n",
    "        return \"Medium\"\n",
    "    elif (x>60000 and x<=90000):\n",
    "        return \"High\"\n",
    "    else:\n",
    "        return \"Very High\"\n",
    "def loan_amount_bracket(x):\n",
    "    if x<=10000:\n",
    "        return \"Low\"\n",
    "    elif (x>10000 and x<=20000):\n",
    "        return \"Medium\"\n",
    "    elif (x>20000 and x<=30000):\n",
    "        return \"High\"\n",
    "    else:\n",
    "        return \"Very High\"\n",
    "    \n",
    "for df in [train,test]:\n",
    "    df['Income_Bracket'] = df['Annual_Income'].apply(income_bracket)\n",
    "    df['Loan_Amount_Bracket'] = df['Loan_Amount_Requested'].apply(loan_amount_bracket)"
   ]
  },
  {
   "cell_type": "code",
   "execution_count": 369,
   "metadata": {},
   "outputs": [],
   "source": [
    "# Creating Groupby Features"
   ]
  },
  {
   "cell_type": "code",
   "execution_count": 370,
   "metadata": {},
   "outputs": [],
   "source": [
    "agg_func = {\n",
    "    'Loan_Amount_Requested': ['min','max','mean','median','std']    \n",
    "}\n",
    "agg_func = train.groupby('Home_Owner').agg(agg_func)\n",
    "agg_func.columns = [ 'Home_Owner_' + ('_'.join(col).strip()) for col in agg_func.columns.values]\n",
    "agg_func.reset_index(inplace=True)\n",
    "train = train.merge(agg_func, on=['Home_Owner'], how='left')\n",
    "\n",
    "agg_func = {\n",
    "    'Loan_Amount_Requested': ['min','max','mean','median','std']    \n",
    "}\n",
    "agg_func = test.groupby('Home_Owner').agg(agg_func)\n",
    "agg_func.columns = [ 'Home_Owner_' + ('_'.join(col).strip()) for col in agg_func.columns.values]\n",
    "agg_func.reset_index(inplace=True)\n",
    "test = test.merge(agg_func, on=['Home_Owner'], how='left')"
   ]
  },
  {
   "cell_type": "code",
   "execution_count": 371,
   "metadata": {},
   "outputs": [],
   "source": [
    "agg_func = {\n",
    "    'Loan_Amount_Requested': ['min','max','mean','median','std']    \n",
    "}\n",
    "agg_func = train.groupby('Purpose_Of_Loan').agg(agg_func)\n",
    "agg_func.columns = [ 'Purpose_Of_Loan_' + ('_'.join(col).strip()) for col in agg_func.columns.values]\n",
    "agg_func.reset_index(inplace=True)\n",
    "train = train.merge(agg_func, on=['Purpose_Of_Loan'], how='left')\n",
    "\n",
    "agg_func = {\n",
    "    'Loan_Amount_Requested': ['min','max','mean','median','std']    \n",
    "}\n",
    "agg_func = test.groupby('Purpose_Of_Loan').agg(agg_func)\n",
    "agg_func.columns = [ 'Purpose_Of_Loan_' + ('_'.join(col).strip()) for col in agg_func.columns.values]\n",
    "agg_func.reset_index(inplace=True)\n",
    "test = test.merge(agg_func, on=['Purpose_Of_Loan'], how='left')"
   ]
  },
  {
   "cell_type": "code",
   "execution_count": 372,
   "metadata": {},
   "outputs": [],
   "source": [
    "agg_func = {\n",
    "    'Loan_Amount_Requested': ['min','max','mean','median','std']    \n",
    "}\n",
    "agg_func = train.groupby('Length_Employed').agg(agg_func)\n",
    "agg_func.columns = [ 'Length_Employed_' + ('_'.join(col).strip()) for col in agg_func.columns.values]\n",
    "agg_func.reset_index(inplace=True)\n",
    "train = train.merge(agg_func, on=['Length_Employed'], how='left')\n",
    "\n",
    "agg_func = {\n",
    "    'Loan_Amount_Requested': ['min','max','mean','median','std']    \n",
    "}\n",
    "agg_func = test.groupby('Length_Employed').agg(agg_func)\n",
    "agg_func.columns = [ 'Length_Employed_' + ('_'.join(col).strip()) for col in agg_func.columns.values]\n",
    "agg_func.reset_index(inplace=True)\n",
    "test = test.merge(agg_func, on=['Length_Employed'], how='left')"
   ]
  },
  {
   "cell_type": "code",
   "execution_count": 373,
   "metadata": {},
   "outputs": [],
   "source": [
    "agg_func = {\n",
    "    'Annual_Income': ['min','max','mean','median','std']    \n",
    "}\n",
    "agg_func = train.groupby('Length_Employed').agg(agg_func)\n",
    "agg_func.columns = [ 'Length_Employed_' + ('_'.join(col).strip()) for col in agg_func.columns.values]\n",
    "agg_func.reset_index(inplace=True)\n",
    "train = train.merge(agg_func, on=['Length_Employed'], how='left')\n",
    "\n",
    "agg_func = {\n",
    "    'Annual_Income': ['min','max','mean','median','std']    \n",
    "}\n",
    "agg_func = test.groupby('Length_Employed').agg(agg_func)\n",
    "agg_func.columns = [ 'Length_Employed_' + ('_'.join(col).strip()) for col in agg_func.columns.values]\n",
    "agg_func.reset_index(inplace=True)\n",
    "test = test.merge(agg_func, on=['Length_Employed'], how='left')"
   ]
  },
  {
   "cell_type": "code",
   "execution_count": 374,
   "metadata": {},
   "outputs": [],
   "source": [
    "agg_func = {\n",
    "    'Annual_Income': ['min','max','mean','median','std']    \n",
    "}\n",
    "agg_func = train.groupby('Purpose_Of_Loan').agg(agg_func)\n",
    "agg_func.columns = [ 'Purpose_Of_Loan_' + ('_'.join(col).strip()) for col in agg_func.columns.values]\n",
    "agg_func.reset_index(inplace=True)\n",
    "train = train.merge(agg_func, on=['Purpose_Of_Loan'], how='left')\n",
    "\n",
    "agg_func = {\n",
    "    'Annual_Income': ['min','max','mean','median','std']    \n",
    "}\n",
    "agg_func = test.groupby('Purpose_Of_Loan').agg(agg_func)\n",
    "agg_func.columns = [ 'Purpose_Of_Loan_' + ('_'.join(col).strip()) for col in agg_func.columns.values]\n",
    "agg_func.reset_index(inplace=True)\n",
    "test = test.merge(agg_func, on=['Purpose_Of_Loan'], how='left')"
   ]
  },
  {
   "cell_type": "code",
   "execution_count": 375,
   "metadata": {},
   "outputs": [],
   "source": [
    "length_of_employment = train['Length_Employed'].value_counts().to_dict()\n",
    "train['Count_Of_Length_Of_Employment'] = train['Length_Employed'].map(length_of_employment)\n",
    "\n",
    "home_owner = train['Home_Owner'].value_counts().to_dict()\n",
    "train['Count_Of_Home_Owner'] = train['Home_Owner'].map(home_owner)\n",
    "\n",
    "income_verified = train['Income_Verified'].value_counts().to_dict()\n",
    "train['Count_Of_Income_Verified'] = train['Income_Verified'].map(income_verified)\n",
    "\n",
    "purpose_of_loan = train['Purpose_Of_Loan'].value_counts().to_dict()\n",
    "train['Count_Of_Purpose_Of_Loan'] = train['Purpose_Of_Loan'].map(purpose_of_loan)"
   ]
  },
  {
   "cell_type": "code",
   "execution_count": 376,
   "metadata": {},
   "outputs": [],
   "source": [
    "length_of_employment = test['Length_Employed'].value_counts().to_dict()\n",
    "test['Count_Of_Length_Of_Employment'] = test['Length_Employed'].map(length_of_employment)\n",
    "\n",
    "home_owner = test['Home_Owner'].value_counts().to_dict()\n",
    "test['Count_Of_Home_Owner'] = test['Home_Owner'].map(home_owner)\n",
    "\n",
    "income_verified = test['Income_Verified'].value_counts().to_dict()\n",
    "test['Count_Of_Income_Verified'] = test['Income_Verified'].map(income_verified)\n",
    "\n",
    "purpose_of_loan = test['Purpose_Of_Loan'].value_counts().to_dict()\n",
    "test['Count_Of_Purpose_Of_Loan'] = test['Purpose_Of_Loan'].map(purpose_of_loan)"
   ]
  },
  {
   "cell_type": "code",
   "execution_count": 377,
   "metadata": {},
   "outputs": [],
   "source": [
    "cols = [col for col in train.columns if train[col].dtype==\"object\"]\n",
    "for col in cols:\n",
    "    train[col] = train[col].astype('category')\n",
    "    train[col] = train[col].cat.codes\n",
    "    \n",
    "    test[col] = test[col].astype('category')\n",
    "    test[col] = test[col].cat.codes\n",
    "    \n",
    "cols = ['Number_Open_Accounts','Total_Accounts','Closed_Accounts','Inquiries_Last_6Mo']\n",
    "for item in cols:\n",
    "    train[item] = train[item].astype('category')\n",
    "    train[item] = train[item].cat.codes\n",
    "    \n",
    "    test[item] = test[item].astype('category')\n",
    "    test[item] = test[item].cat.codes"
   ]
  },
  {
   "cell_type": "code",
   "execution_count": 378,
   "metadata": {},
   "outputs": [],
   "source": [
    "cols = [col for col in train.columns if col not in ['Length_Employed','Home_Owner','Income_Verified','Purpose_Of_Loan','Inquiries_Last_6Mo','Number_Open_Accounts','Total_Accounts','Gender','Interest_Rate','Deliquency_Status','Closed_Accounts','Income_Bracket','Loan_Amount_Bracket','Count_Of_Length_Of_Employment','Count_Of_Home_Owner','Count_Of_Income_Verified','Count_Of_Purpose_Of_Loan']]\n",
    "for col in cols:\n",
    "    train[[col]] = np.log1p(train[[col]])\n",
    "    test[[col]] = np.log1p(test[[col]])"
   ]
  },
  {
   "cell_type": "code",
   "execution_count": 379,
   "metadata": {},
   "outputs": [
    {
     "data": {
      "text/html": [
       "<div>\n",
       "<style scoped>\n",
       "    .dataframe tbody tr th:only-of-type {\n",
       "        vertical-align: middle;\n",
       "    }\n",
       "\n",
       "    .dataframe tbody tr th {\n",
       "        vertical-align: top;\n",
       "    }\n",
       "\n",
       "    .dataframe thead th {\n",
       "        text-align: right;\n",
       "    }\n",
       "</style>\n",
       "<table border=\"1\" class=\"dataframe\">\n",
       "  <thead>\n",
       "    <tr style=\"text-align: right;\">\n",
       "      <th></th>\n",
       "      <th>Loan_Amount_Requested</th>\n",
       "      <th>Length_Employed</th>\n",
       "      <th>Home_Owner</th>\n",
       "      <th>Annual_Income</th>\n",
       "      <th>Income_Verified</th>\n",
       "      <th>Purpose_Of_Loan</th>\n",
       "      <th>Debt_To_Income</th>\n",
       "      <th>Inquiries_Last_6Mo</th>\n",
       "      <th>Number_Open_Accounts</th>\n",
       "      <th>Total_Accounts</th>\n",
       "      <th>Gender</th>\n",
       "      <th>Interest_Rate</th>\n",
       "      <th>Deliquency_Status</th>\n",
       "      <th>Closed_Accounts</th>\n",
       "      <th>Monthly_Income</th>\n",
       "      <th>Loan_Amount_As_Pct_Of_Income</th>\n",
       "      <th>Income_Bracket</th>\n",
       "      <th>Loan_Amount_Bracket</th>\n",
       "      <th>Home_Owner_Loan_Amount_Requested_min</th>\n",
       "      <th>Home_Owner_Loan_Amount_Requested_max</th>\n",
       "      <th>Home_Owner_Loan_Amount_Requested_mean</th>\n",
       "      <th>Home_Owner_Loan_Amount_Requested_median</th>\n",
       "      <th>Home_Owner_Loan_Amount_Requested_std</th>\n",
       "      <th>Purpose_Of_Loan_Loan_Amount_Requested_min</th>\n",
       "      <th>Purpose_Of_Loan_Loan_Amount_Requested_max</th>\n",
       "      <th>Purpose_Of_Loan_Loan_Amount_Requested_mean</th>\n",
       "      <th>Purpose_Of_Loan_Loan_Amount_Requested_median</th>\n",
       "      <th>Purpose_Of_Loan_Loan_Amount_Requested_std</th>\n",
       "      <th>Length_Employed_Loan_Amount_Requested_min</th>\n",
       "      <th>Length_Employed_Loan_Amount_Requested_max</th>\n",
       "      <th>Length_Employed_Loan_Amount_Requested_mean</th>\n",
       "      <th>Length_Employed_Loan_Amount_Requested_median</th>\n",
       "      <th>Length_Employed_Loan_Amount_Requested_std</th>\n",
       "      <th>Length_Employed_Annual_Income_min</th>\n",
       "      <th>Length_Employed_Annual_Income_max</th>\n",
       "      <th>Length_Employed_Annual_Income_mean</th>\n",
       "      <th>Length_Employed_Annual_Income_median</th>\n",
       "      <th>Length_Employed_Annual_Income_std</th>\n",
       "      <th>Purpose_Of_Loan_Annual_Income_min</th>\n",
       "      <th>Purpose_Of_Loan_Annual_Income_max</th>\n",
       "      <th>Purpose_Of_Loan_Annual_Income_mean</th>\n",
       "      <th>Purpose_Of_Loan_Annual_Income_median</th>\n",
       "      <th>Purpose_Of_Loan_Annual_Income_std</th>\n",
       "      <th>Count_Of_Length_Of_Employment</th>\n",
       "      <th>Count_Of_Home_Owner</th>\n",
       "      <th>Count_Of_Income_Verified</th>\n",
       "      <th>Count_Of_Purpose_Of_Loan</th>\n",
       "    </tr>\n",
       "  </thead>\n",
       "  <tbody>\n",
       "    <tr>\n",
       "      <th>0</th>\n",
       "      <td>8.85381</td>\n",
       "      <td>10</td>\n",
       "      <td>4</td>\n",
       "      <td>11.12728</td>\n",
       "      <td>2</td>\n",
       "      <td>0</td>\n",
       "      <td>2.96373</td>\n",
       "      <td>0</td>\n",
       "      <td>9</td>\n",
       "      <td>12</td>\n",
       "      <td>0</td>\n",
       "      <td>1</td>\n",
       "      <td>0</td>\n",
       "      <td>5</td>\n",
       "      <td>8.64253</td>\n",
       "      <td>2.42392</td>\n",
       "      <td>0</td>\n",
       "      <td>1</td>\n",
       "      <td>6.21661</td>\n",
       "      <td>10.46313</td>\n",
       "      <td>9.42906</td>\n",
       "      <td>9.27106</td>\n",
       "      <td>8.91116</td>\n",
       "      <td>6.90875</td>\n",
       "      <td>10.46313</td>\n",
       "      <td>8.99402</td>\n",
       "      <td>8.69968</td>\n",
       "      <td>8.63215</td>\n",
       "      <td>6.21661</td>\n",
       "      <td>10.46313</td>\n",
       "      <td>9.47838</td>\n",
       "      <td>9.32376</td>\n",
       "      <td>8.99549</td>\n",
       "      <td>8.29430</td>\n",
       "      <td>13.81551</td>\n",
       "      <td>11.13532</td>\n",
       "      <td>11.08216</td>\n",
       "      <td>10.63139</td>\n",
       "      <td>8.69968</td>\n",
       "      <td>12.61154</td>\n",
       "      <td>11.09853</td>\n",
       "      <td>11.07908</td>\n",
       "      <td>10.45287</td>\n",
       "      <td>12805</td>\n",
       "      <td>56031</td>\n",
       "      <td>51873</td>\n",
       "      <td>1885</td>\n",
       "    </tr>\n",
       "    <tr>\n",
       "      <th>1</th>\n",
       "      <td>10.30899</td>\n",
       "      <td>4</td>\n",
       "      <td>1</td>\n",
       "      <td>11.20275</td>\n",
       "      <td>0</td>\n",
       "      <td>2</td>\n",
       "      <td>2.76820</td>\n",
       "      <td>0</td>\n",
       "      <td>12</td>\n",
       "      <td>22</td>\n",
       "      <td>0</td>\n",
       "      <td>3</td>\n",
       "      <td>1</td>\n",
       "      <td>12</td>\n",
       "      <td>8.71800</td>\n",
       "      <td>3.73552</td>\n",
       "      <td>0</td>\n",
       "      <td>0</td>\n",
       "      <td>6.21661</td>\n",
       "      <td>10.46313</td>\n",
       "      <td>9.68291</td>\n",
       "      <td>9.61587</td>\n",
       "      <td>9.06249</td>\n",
       "      <td>6.68586</td>\n",
       "      <td>10.46313</td>\n",
       "      <td>9.62573</td>\n",
       "      <td>9.54688</td>\n",
       "      <td>9.00773</td>\n",
       "      <td>6.80351</td>\n",
       "      <td>10.46313</td>\n",
       "      <td>9.52764</td>\n",
       "      <td>9.39275</td>\n",
       "      <td>8.98390</td>\n",
       "      <td>9.10509</td>\n",
       "      <td>14.28551</td>\n",
       "      <td>11.17716</td>\n",
       "      <td>11.12728</td>\n",
       "      <td>10.69592</td>\n",
       "      <td>8.29430</td>\n",
       "      <td>15.78147</td>\n",
       "      <td>11.19447</td>\n",
       "      <td>11.15626</td>\n",
       "      <td>10.85512</td>\n",
       "      <td>9784</td>\n",
       "      <td>70345</td>\n",
       "      <td>59421</td>\n",
       "      <td>97101</td>\n",
       "    </tr>\n",
       "    <tr>\n",
       "      <th>2</th>\n",
       "      <td>10.11561</td>\n",
       "      <td>7</td>\n",
       "      <td>1</td>\n",
       "      <td>11.23278</td>\n",
       "      <td>1</td>\n",
       "      <td>2</td>\n",
       "      <td>2.82613</td>\n",
       "      <td>0</td>\n",
       "      <td>12</td>\n",
       "      <td>14</td>\n",
       "      <td>1</td>\n",
       "      <td>3</td>\n",
       "      <td>0</td>\n",
       "      <td>4</td>\n",
       "      <td>8.74802</td>\n",
       "      <td>3.51809</td>\n",
       "      <td>0</td>\n",
       "      <td>0</td>\n",
       "      <td>6.21661</td>\n",
       "      <td>10.46313</td>\n",
       "      <td>9.68291</td>\n",
       "      <td>9.61587</td>\n",
       "      <td>9.06249</td>\n",
       "      <td>6.68586</td>\n",
       "      <td>10.46313</td>\n",
       "      <td>9.62573</td>\n",
       "      <td>9.54688</td>\n",
       "      <td>9.00773</td>\n",
       "      <td>6.90875</td>\n",
       "      <td>10.46313</td>\n",
       "      <td>9.57780</td>\n",
       "      <td>9.45434</td>\n",
       "      <td>8.99590</td>\n",
       "      <td>9.04794</td>\n",
       "      <td>13.63039</td>\n",
       "      <td>11.19530</td>\n",
       "      <td>11.15626</td>\n",
       "      <td>10.64606</td>\n",
       "      <td>8.29430</td>\n",
       "      <td>15.78147</td>\n",
       "      <td>11.19447</td>\n",
       "      <td>11.15626</td>\n",
       "      <td>10.85512</td>\n",
       "      <td>9308</td>\n",
       "      <td>70345</td>\n",
       "      <td>53015</td>\n",
       "      <td>97101</td>\n",
       "    </tr>\n",
       "    <tr>\n",
       "      <th>3</th>\n",
       "      <td>9.68041</td>\n",
       "      <td>10</td>\n",
       "      <td>0</td>\n",
       "      <td>10.93598</td>\n",
       "      <td>1</td>\n",
       "      <td>2</td>\n",
       "      <td>2.73046</td>\n",
       "      <td>3</td>\n",
       "      <td>16</td>\n",
       "      <td>20</td>\n",
       "      <td>1</td>\n",
       "      <td>3</td>\n",
       "      <td>0</td>\n",
       "      <td>6</td>\n",
       "      <td>8.45127</td>\n",
       "      <td>3.38405</td>\n",
       "      <td>2</td>\n",
       "      <td>2</td>\n",
       "      <td>6.85751</td>\n",
       "      <td>10.46313</td>\n",
       "      <td>9.56560</td>\n",
       "      <td>9.39275</td>\n",
       "      <td>9.01472</td>\n",
       "      <td>6.68586</td>\n",
       "      <td>10.46313</td>\n",
       "      <td>9.62573</td>\n",
       "      <td>9.54688</td>\n",
       "      <td>9.00773</td>\n",
       "      <td>6.21661</td>\n",
       "      <td>10.46313</td>\n",
       "      <td>9.47838</td>\n",
       "      <td>9.32376</td>\n",
       "      <td>8.99549</td>\n",
       "      <td>8.29430</td>\n",
       "      <td>13.81551</td>\n",
       "      <td>11.13532</td>\n",
       "      <td>11.08216</td>\n",
       "      <td>10.63139</td>\n",
       "      <td>8.29430</td>\n",
       "      <td>15.78147</td>\n",
       "      <td>11.19447</td>\n",
       "      <td>11.15626</td>\n",
       "      <td>10.85512</td>\n",
       "      <td>12805</td>\n",
       "      <td>25349</td>\n",
       "      <td>53015</td>\n",
       "      <td>97101</td>\n",
       "    </tr>\n",
       "    <tr>\n",
       "      <th>4</th>\n",
       "      <td>9.74103</td>\n",
       "      <td>8</td>\n",
       "      <td>3</td>\n",
       "      <td>11.47211</td>\n",
       "      <td>1</td>\n",
       "      <td>2</td>\n",
       "      <td>3.14286</td>\n",
       "      <td>1</td>\n",
       "      <td>19</td>\n",
       "      <td>28</td>\n",
       "      <td>0</td>\n",
       "      <td>1</td>\n",
       "      <td>0</td>\n",
       "      <td>11</td>\n",
       "      <td>8.98732</td>\n",
       "      <td>2.92906</td>\n",
       "      <td>3</td>\n",
       "      <td>2</td>\n",
       "      <td>6.80351</td>\n",
       "      <td>10.46313</td>\n",
       "      <td>9.51552</td>\n",
       "      <td>9.39275</td>\n",
       "      <td>9.00412</td>\n",
       "      <td>6.68586</td>\n",
       "      <td>10.46313</td>\n",
       "      <td>9.62573</td>\n",
       "      <td>9.54688</td>\n",
       "      <td>9.00773</td>\n",
       "      <td>6.90875</td>\n",
       "      <td>10.46313</td>\n",
       "      <td>9.58317</td>\n",
       "      <td>9.47086</td>\n",
       "      <td>9.00417</td>\n",
       "      <td>9.21044</td>\n",
       "      <td>15.40475</td>\n",
       "      <td>11.21771</td>\n",
       "      <td>11.15626</td>\n",
       "      <td>11.16108</td>\n",
       "      <td>8.29430</td>\n",
       "      <td>15.78147</td>\n",
       "      <td>11.19447</td>\n",
       "      <td>11.15626</td>\n",
       "      <td>10.85512</td>\n",
       "      <td>7917</td>\n",
       "      <td>12525</td>\n",
       "      <td>53015</td>\n",
       "      <td>97101</td>\n",
       "    </tr>\n",
       "  </tbody>\n",
       "</table>\n",
       "</div>"
      ],
      "text/plain": [
       "   Loan_Amount_Requested  Length_Employed  Home_Owner  Annual_Income  \\\n",
       "0                8.85381               10           4       11.12728   \n",
       "1               10.30899                4           1       11.20275   \n",
       "2               10.11561                7           1       11.23278   \n",
       "3                9.68041               10           0       10.93598   \n",
       "4                9.74103                8           3       11.47211   \n",
       "\n",
       "   Income_Verified  Purpose_Of_Loan  Debt_To_Income  Inquiries_Last_6Mo  \\\n",
       "0                2                0         2.96373                   0   \n",
       "1                0                2         2.76820                   0   \n",
       "2                1                2         2.82613                   0   \n",
       "3                1                2         2.73046                   3   \n",
       "4                1                2         3.14286                   1   \n",
       "\n",
       "   Number_Open_Accounts  Total_Accounts  Gender  Interest_Rate  \\\n",
       "0                     9              12       0              1   \n",
       "1                    12              22       0              3   \n",
       "2                    12              14       1              3   \n",
       "3                    16              20       1              3   \n",
       "4                    19              28       0              1   \n",
       "\n",
       "   Deliquency_Status  Closed_Accounts  Monthly_Income  \\\n",
       "0                  0                5         8.64253   \n",
       "1                  1               12         8.71800   \n",
       "2                  0                4         8.74802   \n",
       "3                  0                6         8.45127   \n",
       "4                  0               11         8.98732   \n",
       "\n",
       "   Loan_Amount_As_Pct_Of_Income  Income_Bracket  Loan_Amount_Bracket  \\\n",
       "0                       2.42392               0                    1   \n",
       "1                       3.73552               0                    0   \n",
       "2                       3.51809               0                    0   \n",
       "3                       3.38405               2                    2   \n",
       "4                       2.92906               3                    2   \n",
       "\n",
       "   Home_Owner_Loan_Amount_Requested_min  Home_Owner_Loan_Amount_Requested_max  \\\n",
       "0                               6.21661                              10.46313   \n",
       "1                               6.21661                              10.46313   \n",
       "2                               6.21661                              10.46313   \n",
       "3                               6.85751                              10.46313   \n",
       "4                               6.80351                              10.46313   \n",
       "\n",
       "   Home_Owner_Loan_Amount_Requested_mean  \\\n",
       "0                                9.42906   \n",
       "1                                9.68291   \n",
       "2                                9.68291   \n",
       "3                                9.56560   \n",
       "4                                9.51552   \n",
       "\n",
       "   Home_Owner_Loan_Amount_Requested_median  \\\n",
       "0                                  9.27106   \n",
       "1                                  9.61587   \n",
       "2                                  9.61587   \n",
       "3                                  9.39275   \n",
       "4                                  9.39275   \n",
       "\n",
       "   Home_Owner_Loan_Amount_Requested_std  \\\n",
       "0                               8.91116   \n",
       "1                               9.06249   \n",
       "2                               9.06249   \n",
       "3                               9.01472   \n",
       "4                               9.00412   \n",
       "\n",
       "   Purpose_Of_Loan_Loan_Amount_Requested_min  \\\n",
       "0                                    6.90875   \n",
       "1                                    6.68586   \n",
       "2                                    6.68586   \n",
       "3                                    6.68586   \n",
       "4                                    6.68586   \n",
       "\n",
       "   Purpose_Of_Loan_Loan_Amount_Requested_max  \\\n",
       "0                                   10.46313   \n",
       "1                                   10.46313   \n",
       "2                                   10.46313   \n",
       "3                                   10.46313   \n",
       "4                                   10.46313   \n",
       "\n",
       "   Purpose_Of_Loan_Loan_Amount_Requested_mean  \\\n",
       "0                                     8.99402   \n",
       "1                                     9.62573   \n",
       "2                                     9.62573   \n",
       "3                                     9.62573   \n",
       "4                                     9.62573   \n",
       "\n",
       "   Purpose_Of_Loan_Loan_Amount_Requested_median  \\\n",
       "0                                       8.69968   \n",
       "1                                       9.54688   \n",
       "2                                       9.54688   \n",
       "3                                       9.54688   \n",
       "4                                       9.54688   \n",
       "\n",
       "   Purpose_Of_Loan_Loan_Amount_Requested_std  \\\n",
       "0                                    8.63215   \n",
       "1                                    9.00773   \n",
       "2                                    9.00773   \n",
       "3                                    9.00773   \n",
       "4                                    9.00773   \n",
       "\n",
       "   Length_Employed_Loan_Amount_Requested_min  \\\n",
       "0                                    6.21661   \n",
       "1                                    6.80351   \n",
       "2                                    6.90875   \n",
       "3                                    6.21661   \n",
       "4                                    6.90875   \n",
       "\n",
       "   Length_Employed_Loan_Amount_Requested_max  \\\n",
       "0                                   10.46313   \n",
       "1                                   10.46313   \n",
       "2                                   10.46313   \n",
       "3                                   10.46313   \n",
       "4                                   10.46313   \n",
       "\n",
       "   Length_Employed_Loan_Amount_Requested_mean  \\\n",
       "0                                     9.47838   \n",
       "1                                     9.52764   \n",
       "2                                     9.57780   \n",
       "3                                     9.47838   \n",
       "4                                     9.58317   \n",
       "\n",
       "   Length_Employed_Loan_Amount_Requested_median  \\\n",
       "0                                       9.32376   \n",
       "1                                       9.39275   \n",
       "2                                       9.45434   \n",
       "3                                       9.32376   \n",
       "4                                       9.47086   \n",
       "\n",
       "   Length_Employed_Loan_Amount_Requested_std  \\\n",
       "0                                    8.99549   \n",
       "1                                    8.98390   \n",
       "2                                    8.99590   \n",
       "3                                    8.99549   \n",
       "4                                    9.00417   \n",
       "\n",
       "   Length_Employed_Annual_Income_min  Length_Employed_Annual_Income_max  \\\n",
       "0                            8.29430                           13.81551   \n",
       "1                            9.10509                           14.28551   \n",
       "2                            9.04794                           13.63039   \n",
       "3                            8.29430                           13.81551   \n",
       "4                            9.21044                           15.40475   \n",
       "\n",
       "   Length_Employed_Annual_Income_mean  Length_Employed_Annual_Income_median  \\\n",
       "0                            11.13532                              11.08216   \n",
       "1                            11.17716                              11.12728   \n",
       "2                            11.19530                              11.15626   \n",
       "3                            11.13532                              11.08216   \n",
       "4                            11.21771                              11.15626   \n",
       "\n",
       "   Length_Employed_Annual_Income_std  Purpose_Of_Loan_Annual_Income_min  \\\n",
       "0                           10.63139                            8.69968   \n",
       "1                           10.69592                            8.29430   \n",
       "2                           10.64606                            8.29430   \n",
       "3                           10.63139                            8.29430   \n",
       "4                           11.16108                            8.29430   \n",
       "\n",
       "   Purpose_Of_Loan_Annual_Income_max  Purpose_Of_Loan_Annual_Income_mean  \\\n",
       "0                           12.61154                            11.09853   \n",
       "1                           15.78147                            11.19447   \n",
       "2                           15.78147                            11.19447   \n",
       "3                           15.78147                            11.19447   \n",
       "4                           15.78147                            11.19447   \n",
       "\n",
       "   Purpose_Of_Loan_Annual_Income_median  Purpose_Of_Loan_Annual_Income_std  \\\n",
       "0                              11.07908                           10.45287   \n",
       "1                              11.15626                           10.85512   \n",
       "2                              11.15626                           10.85512   \n",
       "3                              11.15626                           10.85512   \n",
       "4                              11.15626                           10.85512   \n",
       "\n",
       "   Count_Of_Length_Of_Employment  Count_Of_Home_Owner  \\\n",
       "0                          12805                56031   \n",
       "1                           9784                70345   \n",
       "2                           9308                70345   \n",
       "3                          12805                25349   \n",
       "4                           7917                12525   \n",
       "\n",
       "   Count_Of_Income_Verified  Count_Of_Purpose_Of_Loan  \n",
       "0                     51873                      1885  \n",
       "1                     59421                     97101  \n",
       "2                     53015                     97101  \n",
       "3                     53015                     97101  \n",
       "4                     53015                     97101  "
      ]
     },
     "execution_count": 379,
     "metadata": {},
     "output_type": "execute_result"
    }
   ],
   "source": [
    "train.head()"
   ]
  },
  {
   "cell_type": "code",
   "execution_count": 380,
   "metadata": {},
   "outputs": [
    {
     "data": {
      "text/html": [
       "<div>\n",
       "<style scoped>\n",
       "    .dataframe tbody tr th:only-of-type {\n",
       "        vertical-align: middle;\n",
       "    }\n",
       "\n",
       "    .dataframe tbody tr th {\n",
       "        vertical-align: top;\n",
       "    }\n",
       "\n",
       "    .dataframe thead th {\n",
       "        text-align: right;\n",
       "    }\n",
       "</style>\n",
       "<table border=\"1\" class=\"dataframe\">\n",
       "  <thead>\n",
       "    <tr style=\"text-align: right;\">\n",
       "      <th></th>\n",
       "      <th>Loan_Amount_Requested</th>\n",
       "      <th>Length_Employed</th>\n",
       "      <th>Home_Owner</th>\n",
       "      <th>Annual_Income</th>\n",
       "      <th>Income_Verified</th>\n",
       "      <th>Purpose_Of_Loan</th>\n",
       "      <th>Debt_To_Income</th>\n",
       "      <th>Inquiries_Last_6Mo</th>\n",
       "      <th>Number_Open_Accounts</th>\n",
       "      <th>Total_Accounts</th>\n",
       "      <th>Gender</th>\n",
       "      <th>Deliquency_Status</th>\n",
       "      <th>Closed_Accounts</th>\n",
       "      <th>Monthly_Income</th>\n",
       "      <th>Loan_Amount_As_Pct_Of_Income</th>\n",
       "      <th>Income_Bracket</th>\n",
       "      <th>Loan_Amount_Bracket</th>\n",
       "      <th>Home_Owner_Loan_Amount_Requested_min</th>\n",
       "      <th>Home_Owner_Loan_Amount_Requested_max</th>\n",
       "      <th>Home_Owner_Loan_Amount_Requested_mean</th>\n",
       "      <th>Home_Owner_Loan_Amount_Requested_median</th>\n",
       "      <th>Home_Owner_Loan_Amount_Requested_std</th>\n",
       "      <th>Purpose_Of_Loan_Loan_Amount_Requested_min</th>\n",
       "      <th>Purpose_Of_Loan_Loan_Amount_Requested_max</th>\n",
       "      <th>Purpose_Of_Loan_Loan_Amount_Requested_mean</th>\n",
       "      <th>Purpose_Of_Loan_Loan_Amount_Requested_median</th>\n",
       "      <th>Purpose_Of_Loan_Loan_Amount_Requested_std</th>\n",
       "      <th>Length_Employed_Loan_Amount_Requested_min</th>\n",
       "      <th>Length_Employed_Loan_Amount_Requested_max</th>\n",
       "      <th>Length_Employed_Loan_Amount_Requested_mean</th>\n",
       "      <th>Length_Employed_Loan_Amount_Requested_median</th>\n",
       "      <th>Length_Employed_Loan_Amount_Requested_std</th>\n",
       "      <th>Length_Employed_Annual_Income_min</th>\n",
       "      <th>Length_Employed_Annual_Income_max</th>\n",
       "      <th>Length_Employed_Annual_Income_mean</th>\n",
       "      <th>Length_Employed_Annual_Income_median</th>\n",
       "      <th>Length_Employed_Annual_Income_std</th>\n",
       "      <th>Purpose_Of_Loan_Annual_Income_min</th>\n",
       "      <th>Purpose_Of_Loan_Annual_Income_max</th>\n",
       "      <th>Purpose_Of_Loan_Annual_Income_mean</th>\n",
       "      <th>Purpose_Of_Loan_Annual_Income_median</th>\n",
       "      <th>Purpose_Of_Loan_Annual_Income_std</th>\n",
       "      <th>Count_Of_Length_Of_Employment</th>\n",
       "      <th>Count_Of_Home_Owner</th>\n",
       "      <th>Count_Of_Income_Verified</th>\n",
       "      <th>Count_Of_Purpose_Of_Loan</th>\n",
       "    </tr>\n",
       "  </thead>\n",
       "  <tbody>\n",
       "    <tr>\n",
       "      <th>0</th>\n",
       "      <td>10.22198</td>\n",
       "      <td>1</td>\n",
       "      <td>1</td>\n",
       "      <td>11.76758</td>\n",
       "      <td>0</td>\n",
       "      <td>2</td>\n",
       "      <td>2.62973</td>\n",
       "      <td>0</td>\n",
       "      <td>10</td>\n",
       "      <td>35</td>\n",
       "      <td>1</td>\n",
       "      <td>1</td>\n",
       "      <td>28</td>\n",
       "      <td>9.28275</td>\n",
       "      <td>3.10548</td>\n",
       "      <td>3</td>\n",
       "      <td>0</td>\n",
       "      <td>6.21661</td>\n",
       "      <td>10.46313</td>\n",
       "      <td>9.68138</td>\n",
       "      <td>9.61587</td>\n",
       "      <td>9.06190</td>\n",
       "      <td>6.90875</td>\n",
       "      <td>10.46313</td>\n",
       "      <td>9.62658</td>\n",
       "      <td>9.54688</td>\n",
       "      <td>9.00739</td>\n",
       "      <td>6.90875</td>\n",
       "      <td>10.46313</td>\n",
       "      <td>9.66729</td>\n",
       "      <td>9.61587</td>\n",
       "      <td>9.05664</td>\n",
       "      <td>8.99826</td>\n",
       "      <td>14.39325</td>\n",
       "      <td>11.27619</td>\n",
       "      <td>11.20486</td>\n",
       "      <td>10.76563</td>\n",
       "      <td>8.88198</td>\n",
       "      <td>15.82324</td>\n",
       "      <td>11.19565</td>\n",
       "      <td>11.15626</td>\n",
       "      <td>10.86956</td>\n",
       "      <td>35413</td>\n",
       "      <td>46925</td>\n",
       "      <td>39655</td>\n",
       "      <td>64302</td>\n",
       "    </tr>\n",
       "    <tr>\n",
       "      <th>1</th>\n",
       "      <td>10.16589</td>\n",
       "      <td>1</td>\n",
       "      <td>0</td>\n",
       "      <td>11.60824</td>\n",
       "      <td>2</td>\n",
       "      <td>1</td>\n",
       "      <td>2.51527</td>\n",
       "      <td>0</td>\n",
       "      <td>6</td>\n",
       "      <td>21</td>\n",
       "      <td>1</td>\n",
       "      <td>0</td>\n",
       "      <td>18</td>\n",
       "      <td>9.12344</td>\n",
       "      <td>3.20437</td>\n",
       "      <td>3</td>\n",
       "      <td>0</td>\n",
       "      <td>6.90875</td>\n",
       "      <td>10.46313</td>\n",
       "      <td>9.57593</td>\n",
       "      <td>9.41744</td>\n",
       "      <td>9.02804</td>\n",
       "      <td>6.90875</td>\n",
       "      <td>10.46313</td>\n",
       "      <td>9.60064</td>\n",
       "      <td>9.47278</td>\n",
       "      <td>8.99261</td>\n",
       "      <td>6.90875</td>\n",
       "      <td>10.46313</td>\n",
       "      <td>9.66729</td>\n",
       "      <td>9.61587</td>\n",
       "      <td>9.05664</td>\n",
       "      <td>8.99826</td>\n",
       "      <td>14.39325</td>\n",
       "      <td>11.27619</td>\n",
       "      <td>11.20486</td>\n",
       "      <td>10.76563</td>\n",
       "      <td>8.29430</td>\n",
       "      <td>14.03865</td>\n",
       "      <td>11.19415</td>\n",
       "      <td>11.15626</td>\n",
       "      <td>10.67240</td>\n",
       "      <td>35413</td>\n",
       "      <td>16711</td>\n",
       "      <td>34648</td>\n",
       "      <td>24710</td>\n",
       "    </tr>\n",
       "    <tr>\n",
       "      <th>2</th>\n",
       "      <td>8.71210</td>\n",
       "      <td>10</td>\n",
       "      <td>4</td>\n",
       "      <td>11.22526</td>\n",
       "      <td>0</td>\n",
       "      <td>2</td>\n",
       "      <td>2.05796</td>\n",
       "      <td>2</td>\n",
       "      <td>5</td>\n",
       "      <td>18</td>\n",
       "      <td>1</td>\n",
       "      <td>0</td>\n",
       "      <td>16</td>\n",
       "      <td>8.74050</td>\n",
       "      <td>2.20827</td>\n",
       "      <td>0</td>\n",
       "      <td>1</td>\n",
       "      <td>6.80351</td>\n",
       "      <td>10.46313</td>\n",
       "      <td>9.42923</td>\n",
       "      <td>9.25923</td>\n",
       "      <td>8.91542</td>\n",
       "      <td>6.90875</td>\n",
       "      <td>10.46313</td>\n",
       "      <td>9.62658</td>\n",
       "      <td>9.54688</td>\n",
       "      <td>9.00739</td>\n",
       "      <td>6.90875</td>\n",
       "      <td>10.46313</td>\n",
       "      <td>9.49045</td>\n",
       "      <td>9.35019</td>\n",
       "      <td>9.00791</td>\n",
       "      <td>8.47658</td>\n",
       "      <td>13.54763</td>\n",
       "      <td>11.14406</td>\n",
       "      <td>11.08216</td>\n",
       "      <td>10.62613</td>\n",
       "      <td>8.88198</td>\n",
       "      <td>15.82324</td>\n",
       "      <td>11.19565</td>\n",
       "      <td>11.15626</td>\n",
       "      <td>10.86956</td>\n",
       "      <td>8328</td>\n",
       "      <td>37511</td>\n",
       "      <td>39655</td>\n",
       "      <td>64302</td>\n",
       "    </tr>\n",
       "    <tr>\n",
       "      <th>3</th>\n",
       "      <td>9.39275</td>\n",
       "      <td>1</td>\n",
       "      <td>1</td>\n",
       "      <td>11.19823</td>\n",
       "      <td>1</td>\n",
       "      <td>2</td>\n",
       "      <td>2.17020</td>\n",
       "      <td>0</td>\n",
       "      <td>6</td>\n",
       "      <td>6</td>\n",
       "      <td>1</td>\n",
       "      <td>0</td>\n",
       "      <td>3</td>\n",
       "      <td>8.71347</td>\n",
       "      <td>2.85877</td>\n",
       "      <td>0</td>\n",
       "      <td>2</td>\n",
       "      <td>6.21661</td>\n",
       "      <td>10.46313</td>\n",
       "      <td>9.68138</td>\n",
       "      <td>9.61587</td>\n",
       "      <td>9.06190</td>\n",
       "      <td>6.90875</td>\n",
       "      <td>10.46313</td>\n",
       "      <td>9.62658</td>\n",
       "      <td>9.54688</td>\n",
       "      <td>9.00739</td>\n",
       "      <td>6.90875</td>\n",
       "      <td>10.46313</td>\n",
       "      <td>9.66729</td>\n",
       "      <td>9.61587</td>\n",
       "      <td>9.05664</td>\n",
       "      <td>8.99826</td>\n",
       "      <td>14.39325</td>\n",
       "      <td>11.27619</td>\n",
       "      <td>11.20486</td>\n",
       "      <td>10.76563</td>\n",
       "      <td>8.88198</td>\n",
       "      <td>15.82324</td>\n",
       "      <td>11.19565</td>\n",
       "      <td>11.15626</td>\n",
       "      <td>10.86956</td>\n",
       "      <td>35413</td>\n",
       "      <td>46925</td>\n",
       "      <td>35238</td>\n",
       "      <td>64302</td>\n",
       "    </tr>\n",
       "    <tr>\n",
       "      <th>4</th>\n",
       "      <td>10.46313</td>\n",
       "      <td>10</td>\n",
       "      <td>1</td>\n",
       "      <td>11.95762</td>\n",
       "      <td>2</td>\n",
       "      <td>2</td>\n",
       "      <td>2.36274</td>\n",
       "      <td>0</td>\n",
       "      <td>9</td>\n",
       "      <td>19</td>\n",
       "      <td>1</td>\n",
       "      <td>1</td>\n",
       "      <td>13</td>\n",
       "      <td>9.47278</td>\n",
       "      <td>3.15444</td>\n",
       "      <td>3</td>\n",
       "      <td>3</td>\n",
       "      <td>6.21661</td>\n",
       "      <td>10.46313</td>\n",
       "      <td>9.68138</td>\n",
       "      <td>9.61587</td>\n",
       "      <td>9.06190</td>\n",
       "      <td>6.90875</td>\n",
       "      <td>10.46313</td>\n",
       "      <td>9.62658</td>\n",
       "      <td>9.54688</td>\n",
       "      <td>9.00739</td>\n",
       "      <td>6.90875</td>\n",
       "      <td>10.46313</td>\n",
       "      <td>9.49045</td>\n",
       "      <td>9.35019</td>\n",
       "      <td>9.00791</td>\n",
       "      <td>8.47658</td>\n",
       "      <td>13.54763</td>\n",
       "      <td>11.14406</td>\n",
       "      <td>11.08216</td>\n",
       "      <td>10.62613</td>\n",
       "      <td>8.88198</td>\n",
       "      <td>15.82324</td>\n",
       "      <td>11.19565</td>\n",
       "      <td>11.15626</td>\n",
       "      <td>10.86956</td>\n",
       "      <td>8328</td>\n",
       "      <td>46925</td>\n",
       "      <td>34648</td>\n",
       "      <td>64302</td>\n",
       "    </tr>\n",
       "  </tbody>\n",
       "</table>\n",
       "</div>"
      ],
      "text/plain": [
       "   Loan_Amount_Requested  Length_Employed  Home_Owner  Annual_Income  \\\n",
       "0               10.22198                1           1       11.76758   \n",
       "1               10.16589                1           0       11.60824   \n",
       "2                8.71210               10           4       11.22526   \n",
       "3                9.39275                1           1       11.19823   \n",
       "4               10.46313               10           1       11.95762   \n",
       "\n",
       "   Income_Verified  Purpose_Of_Loan  Debt_To_Income  Inquiries_Last_6Mo  \\\n",
       "0                0                2         2.62973                   0   \n",
       "1                2                1         2.51527                   0   \n",
       "2                0                2         2.05796                   2   \n",
       "3                1                2         2.17020                   0   \n",
       "4                2                2         2.36274                   0   \n",
       "\n",
       "   Number_Open_Accounts  Total_Accounts  Gender  Deliquency_Status  \\\n",
       "0                    10              35       1                  1   \n",
       "1                     6              21       1                  0   \n",
       "2                     5              18       1                  0   \n",
       "3                     6               6       1                  0   \n",
       "4                     9              19       1                  1   \n",
       "\n",
       "   Closed_Accounts  Monthly_Income  Loan_Amount_As_Pct_Of_Income  \\\n",
       "0               28         9.28275                       3.10548   \n",
       "1               18         9.12344                       3.20437   \n",
       "2               16         8.74050                       2.20827   \n",
       "3                3         8.71347                       2.85877   \n",
       "4               13         9.47278                       3.15444   \n",
       "\n",
       "   Income_Bracket  Loan_Amount_Bracket  Home_Owner_Loan_Amount_Requested_min  \\\n",
       "0               3                    0                               6.21661   \n",
       "1               3                    0                               6.90875   \n",
       "2               0                    1                               6.80351   \n",
       "3               0                    2                               6.21661   \n",
       "4               3                    3                               6.21661   \n",
       "\n",
       "   Home_Owner_Loan_Amount_Requested_max  \\\n",
       "0                              10.46313   \n",
       "1                              10.46313   \n",
       "2                              10.46313   \n",
       "3                              10.46313   \n",
       "4                              10.46313   \n",
       "\n",
       "   Home_Owner_Loan_Amount_Requested_mean  \\\n",
       "0                                9.68138   \n",
       "1                                9.57593   \n",
       "2                                9.42923   \n",
       "3                                9.68138   \n",
       "4                                9.68138   \n",
       "\n",
       "   Home_Owner_Loan_Amount_Requested_median  \\\n",
       "0                                  9.61587   \n",
       "1                                  9.41744   \n",
       "2                                  9.25923   \n",
       "3                                  9.61587   \n",
       "4                                  9.61587   \n",
       "\n",
       "   Home_Owner_Loan_Amount_Requested_std  \\\n",
       "0                               9.06190   \n",
       "1                               9.02804   \n",
       "2                               8.91542   \n",
       "3                               9.06190   \n",
       "4                               9.06190   \n",
       "\n",
       "   Purpose_Of_Loan_Loan_Amount_Requested_min  \\\n",
       "0                                    6.90875   \n",
       "1                                    6.90875   \n",
       "2                                    6.90875   \n",
       "3                                    6.90875   \n",
       "4                                    6.90875   \n",
       "\n",
       "   Purpose_Of_Loan_Loan_Amount_Requested_max  \\\n",
       "0                                   10.46313   \n",
       "1                                   10.46313   \n",
       "2                                   10.46313   \n",
       "3                                   10.46313   \n",
       "4                                   10.46313   \n",
       "\n",
       "   Purpose_Of_Loan_Loan_Amount_Requested_mean  \\\n",
       "0                                     9.62658   \n",
       "1                                     9.60064   \n",
       "2                                     9.62658   \n",
       "3                                     9.62658   \n",
       "4                                     9.62658   \n",
       "\n",
       "   Purpose_Of_Loan_Loan_Amount_Requested_median  \\\n",
       "0                                       9.54688   \n",
       "1                                       9.47278   \n",
       "2                                       9.54688   \n",
       "3                                       9.54688   \n",
       "4                                       9.54688   \n",
       "\n",
       "   Purpose_Of_Loan_Loan_Amount_Requested_std  \\\n",
       "0                                    9.00739   \n",
       "1                                    8.99261   \n",
       "2                                    9.00739   \n",
       "3                                    9.00739   \n",
       "4                                    9.00739   \n",
       "\n",
       "   Length_Employed_Loan_Amount_Requested_min  \\\n",
       "0                                    6.90875   \n",
       "1                                    6.90875   \n",
       "2                                    6.90875   \n",
       "3                                    6.90875   \n",
       "4                                    6.90875   \n",
       "\n",
       "   Length_Employed_Loan_Amount_Requested_max  \\\n",
       "0                                   10.46313   \n",
       "1                                   10.46313   \n",
       "2                                   10.46313   \n",
       "3                                   10.46313   \n",
       "4                                   10.46313   \n",
       "\n",
       "   Length_Employed_Loan_Amount_Requested_mean  \\\n",
       "0                                     9.66729   \n",
       "1                                     9.66729   \n",
       "2                                     9.49045   \n",
       "3                                     9.66729   \n",
       "4                                     9.49045   \n",
       "\n",
       "   Length_Employed_Loan_Amount_Requested_median  \\\n",
       "0                                       9.61587   \n",
       "1                                       9.61587   \n",
       "2                                       9.35019   \n",
       "3                                       9.61587   \n",
       "4                                       9.35019   \n",
       "\n",
       "   Length_Employed_Loan_Amount_Requested_std  \\\n",
       "0                                    9.05664   \n",
       "1                                    9.05664   \n",
       "2                                    9.00791   \n",
       "3                                    9.05664   \n",
       "4                                    9.00791   \n",
       "\n",
       "   Length_Employed_Annual_Income_min  Length_Employed_Annual_Income_max  \\\n",
       "0                            8.99826                           14.39325   \n",
       "1                            8.99826                           14.39325   \n",
       "2                            8.47658                           13.54763   \n",
       "3                            8.99826                           14.39325   \n",
       "4                            8.47658                           13.54763   \n",
       "\n",
       "   Length_Employed_Annual_Income_mean  Length_Employed_Annual_Income_median  \\\n",
       "0                            11.27619                              11.20486   \n",
       "1                            11.27619                              11.20486   \n",
       "2                            11.14406                              11.08216   \n",
       "3                            11.27619                              11.20486   \n",
       "4                            11.14406                              11.08216   \n",
       "\n",
       "   Length_Employed_Annual_Income_std  Purpose_Of_Loan_Annual_Income_min  \\\n",
       "0                           10.76563                            8.88198   \n",
       "1                           10.76563                            8.29430   \n",
       "2                           10.62613                            8.88198   \n",
       "3                           10.76563                            8.88198   \n",
       "4                           10.62613                            8.88198   \n",
       "\n",
       "   Purpose_Of_Loan_Annual_Income_max  Purpose_Of_Loan_Annual_Income_mean  \\\n",
       "0                           15.82324                            11.19565   \n",
       "1                           14.03865                            11.19415   \n",
       "2                           15.82324                            11.19565   \n",
       "3                           15.82324                            11.19565   \n",
       "4                           15.82324                            11.19565   \n",
       "\n",
       "   Purpose_Of_Loan_Annual_Income_median  Purpose_Of_Loan_Annual_Income_std  \\\n",
       "0                              11.15626                           10.86956   \n",
       "1                              11.15626                           10.67240   \n",
       "2                              11.15626                           10.86956   \n",
       "3                              11.15626                           10.86956   \n",
       "4                              11.15626                           10.86956   \n",
       "\n",
       "   Count_Of_Length_Of_Employment  Count_Of_Home_Owner  \\\n",
       "0                          35413                46925   \n",
       "1                          35413                16711   \n",
       "2                           8328                37511   \n",
       "3                          35413                46925   \n",
       "4                           8328                46925   \n",
       "\n",
       "   Count_Of_Income_Verified  Count_Of_Purpose_Of_Loan  \n",
       "0                     39655                     64302  \n",
       "1                     34648                     24710  \n",
       "2                     39655                     64302  \n",
       "3                     35238                     64302  \n",
       "4                     34648                     64302  "
      ]
     },
     "execution_count": 380,
     "metadata": {},
     "output_type": "execute_result"
    }
   ],
   "source": [
    "test.head()"
   ]
  },
  {
   "cell_type": "code",
   "execution_count": 381,
   "metadata": {},
   "outputs": [],
   "source": [
    "y = train['Interest_Rate']\n",
    "X = train[[col for col in train.columns if col!=\"Interest_Rate\"]]"
   ]
  },
  {
   "cell_type": "code",
   "execution_count": 382,
   "metadata": {},
   "outputs": [
    {
     "name": "stderr",
     "output_type": "stream",
     "text": [
      "C:\\Users\\kulka\\anaconda3\\lib\\site-packages\\sklearn\\model_selection\\_split.py:296: FutureWarning: Setting a random_state has no effect since shuffle is False. This will raise an error in 0.24. You should leave random_state to its default (None), or set shuffle=True.\n",
      "  FutureWarning\n"
     ]
    }
   ],
   "source": [
    "kf = StratifiedKFold(n_splits=10,shuffle=False,random_state=42)"
   ]
  },
  {
   "cell_type": "code",
   "execution_count": 383,
   "metadata": {},
   "outputs": [
    {
     "data": {
      "text/plain": [
       "RandomizedSearchCV(cv=<generator object _BaseKFold.split at 0x0000018F8704AE48>,\n",
       "                   error_score=nan,\n",
       "                   estimator=LGBMClassifier(boosting_type='gbdt',\n",
       "                                            class_weight=None,\n",
       "                                            colsample_bytree=1.0,\n",
       "                                            importance_type='split',\n",
       "                                            learning_rate=0.1, max_depth=-1,\n",
       "                                            min_child_samples=20,\n",
       "                                            min_child_weight=0.001,\n",
       "                                            min_split_gain=0.0,\n",
       "                                            n_estimators=100, n_jobs=-1,\n",
       "                                            num_class=3, num_leaves=31,\n",
       "                                            ob...\n",
       "                                        'max_depth': [4, 6, 8, 10, -1],\n",
       "                                        'min_data_in_leaf': [1, 3, 5, 7, 10, 25,\n",
       "                                                             50, 75, 100],\n",
       "                                        'n_estimators': [50, 150, 250, 350, 450,\n",
       "                                                         550, 650, 750, 850,\n",
       "                                                         950],\n",
       "                                        'num_leaves': [7, 15, 31, 63, 127],\n",
       "                                        'reg_alpha': [0, 0.25, 0.5, 1, 2],\n",
       "                                        'reg_lambda': [0, 0.25, 0.5, 1, 2],\n",
       "                                        'subsample': [0.5, 0.6, 0.7, 0.8, 0.9]},\n",
       "                   pre_dispatch='2*n_jobs', random_state=None, refit=True,\n",
       "                   return_train_score=False, scoring='f1_weighted', verbose=0)"
      ]
     },
     "execution_count": 383,
     "metadata": {},
     "output_type": "execute_result"
    }
   ],
   "source": [
    "clf = lgb.LGBMClassifier(boosting_type='gbdt',objective='multiclass',num_class=3,random_state=42,n_jobs=-1,verbose=1)\n",
    "params = {\"max_depth\":[4,6,8,10,-1],\n",
    "          \"learning_rate\":[0.01,0.03,0.05,0.1,0.3],\n",
    "          \"subsample\":[0.5,0.6,0.7,0.8,0.9],\n",
    "          \"colsample_bytree\":[0.5,0.6,0.7,0.8,0.9],\n",
    "          \"reg_alpha\":[0,0.25,0.5,1,2],\n",
    "          \"reg_lambda\":[0,0.25,0.5,1,2],\n",
    "          \"num_leaves\":[7,15,31,63,127],\n",
    "          \"min_data_in_leaf\":[1,3,5,7,10,25,50,75,100],\n",
    "          \"n_estimators\":list(range(50,1001,100))}\n",
    "random_search = RandomizedSearchCV(estimator=clf,param_distributions=params,cv=kf.split(X,y),scoring='f1_weighted')\n",
    "random_search.fit(X,y)"
   ]
  },
  {
   "cell_type": "code",
   "execution_count": 384,
   "metadata": {},
   "outputs": [
    {
     "data": {
      "text/plain": [
       "(LGBMClassifier(boosting_type='gbdt', class_weight=None, colsample_bytree=0.7,\n",
       "                importance_type='split', learning_rate=0.3, max_depth=-1,\n",
       "                min_child_samples=20, min_child_weight=0.001,\n",
       "                min_data_in_leaf=75, min_split_gain=0.0, n_estimators=650,\n",
       "                n_jobs=-1, num_class=3, num_leaves=7, objective='multiclass',\n",
       "                random_state=42, reg_alpha=1, reg_lambda=1, silent=True,\n",
       "                subsample=0.6, subsample_for_bin=200000, subsample_freq=0,\n",
       "                verbose=1),\n",
       " {'subsample': 0.6,\n",
       "  'reg_lambda': 1,\n",
       "  'reg_alpha': 1,\n",
       "  'num_leaves': 7,\n",
       "  'n_estimators': 650,\n",
       "  'min_data_in_leaf': 75,\n",
       "  'max_depth': -1,\n",
       "  'learning_rate': 0.3,\n",
       "  'colsample_bytree': 0.7},\n",
       " 0.5347398578974738)"
      ]
     },
     "execution_count": 384,
     "metadata": {},
     "output_type": "execute_result"
    }
   ],
   "source": [
    "random_search.best_estimator_,random_search.best_params_,random_search.best_score_"
   ]
  },
  {
   "cell_type": "code",
   "execution_count": 385,
   "metadata": {},
   "outputs": [
    {
     "data": {
      "text/plain": [
       "<matplotlib.axes._subplots.AxesSubplot at 0x18f87078648>"
      ]
     },
     "execution_count": 385,
     "metadata": {},
     "output_type": "execute_result"
    },
    {
     "data": {
      "image/png": "[encoded data removed]",
      "text/plain": [
       "<Figure size 1296x432 with 1 Axes>"
      ]
     },
     "metadata": {},
     "output_type": "display_data"
    }
   ],
   "source": [
    "plt.figure(figsize=(18,6))\n",
    "ser = pd.Series(random_search.best_estimator_.feature_importances_,X.columns).sort_values()\n",
    "ser.plot(kind='bar')"
   ]
  },
  {
   "cell_type": "code",
   "execution_count": 387,
   "metadata": {},
   "outputs": [
    {
     "name": "stderr",
     "output_type": "stream",
     "text": [
      "C:\\Users\\kulka\\anaconda3\\lib\\site-packages\\ipykernel_launcher.py:1: SettingWithCopyWarning: \n",
      "A value is trying to be set on a copy of a slice from a DataFrame.\n",
      "Try using .loc[row_indexer,col_indexer] = value instead\n",
      "\n",
      "See the caveats in the documentation: https://pandas.pydata.org/pandas-docs/stable/user_guide/indexing.html#returning-a-view-versus-a-copy\n",
      "  \"\"\"Entry point for launching an IPython kernel.\n"
     ]
    }
   ],
   "source": [
    "Submission['Interest_Rate'] = random_search.best_estimator_.predict(test)\n",
    "Submission.to_csv(\"Sub_11.csv\",index=None)"
   ]
  }
 ],
 "metadata": {
  "kernelspec": {
   "display_name": "Python 3",
   "language": "python",
   "name": "python3"
  },
  "language_info": {
   "codemirror_mode": {
    "name": "ipython",
    "version": 3
   },
   "file_extension": ".py",
   "mimetype": "text/x-python",
   "name": "python",
   "nbconvert_exporter": "python",
   "pygments_lexer": "ipython3",
   "version": "3.7.6"
  }
 },
 "nbformat": 4,
 "nbformat_minor": 4
}
